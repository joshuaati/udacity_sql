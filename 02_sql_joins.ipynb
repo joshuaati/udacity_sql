{
 "cells": [
  {
   "cell_type": "code",
   "execution_count": 1,
   "metadata": {},
   "outputs": [],
   "source": [
    "import sqlite3\n",
    "%load_ext sql\n"
   ]
  },
  {
   "cell_type": "code",
   "execution_count": 2,
   "metadata": {},
   "outputs": [],
   "source": [
    "%sql sqlite:///parcy_and_posey.db"
   ]
  },
  {
   "cell_type": "code",
   "execution_count": 4,
   "metadata": {},
   "outputs": [
    {
     "name": "stdout",
     "output_type": "stream",
     "text": [
      " * sqlite:///parcy_and_posey.db\n",
      "Done.\n"
     ]
    },
    {
     "data": {
      "text/html": [
       "<table>\n",
       "    <tr>\n",
       "        <th>id</th>\n",
       "        <th>account_id</th>\n",
       "        <th>occurred_at</th>\n",
       "        <th>standard_qty</th>\n",
       "        <th>gloss_qty</th>\n",
       "        <th>poster_qty</th>\n",
       "        <th>total</th>\n",
       "        <th>standard_amt_usd</th>\n",
       "        <th>gloss_amt_usd</th>\n",
       "        <th>poster_amt_usd</th>\n",
       "        <th>total_amt_usd</th>\n",
       "    </tr>\n",
       "    <tr>\n",
       "        <td>1</td>\n",
       "        <td>1001</td>\n",
       "        <td>2015-10-06 17:31:14</td>\n",
       "        <td>123</td>\n",
       "        <td>22</td>\n",
       "        <td>24</td>\n",
       "        <td>169</td>\n",
       "        <td>613.77</td>\n",
       "        <td>164.78</td>\n",
       "        <td>194.88</td>\n",
       "        <td>973.43</td>\n",
       "    </tr>\n",
       "    <tr>\n",
       "        <td>2</td>\n",
       "        <td>1001</td>\n",
       "        <td>2015-11-05 03:34:33</td>\n",
       "        <td>190</td>\n",
       "        <td>41</td>\n",
       "        <td>57</td>\n",
       "        <td>288</td>\n",
       "        <td>948.1</td>\n",
       "        <td>307.09</td>\n",
       "        <td>462.84</td>\n",
       "        <td>1718.03</td>\n",
       "    </tr>\n",
       "    <tr>\n",
       "        <td>3</td>\n",
       "        <td>1001</td>\n",
       "        <td>2015-12-04 04:21:55</td>\n",
       "        <td>85</td>\n",
       "        <td>47</td>\n",
       "        <td>0</td>\n",
       "        <td>132</td>\n",
       "        <td>424.15</td>\n",
       "        <td>352.03</td>\n",
       "        <td>0</td>\n",
       "        <td>776.18</td>\n",
       "    </tr>\n",
       "    <tr>\n",
       "        <td>4</td>\n",
       "        <td>1001</td>\n",
       "        <td>2016-01-02 01:18:24</td>\n",
       "        <td>144</td>\n",
       "        <td>32</td>\n",
       "        <td>0</td>\n",
       "        <td>176</td>\n",
       "        <td>718.56</td>\n",
       "        <td>239.68</td>\n",
       "        <td>0</td>\n",
       "        <td>958.24</td>\n",
       "    </tr>\n",
       "    <tr>\n",
       "        <td>5</td>\n",
       "        <td>1001</td>\n",
       "        <td>2016-02-01 19:27:27</td>\n",
       "        <td>108</td>\n",
       "        <td>29</td>\n",
       "        <td>28</td>\n",
       "        <td>165</td>\n",
       "        <td>538.92</td>\n",
       "        <td>217.21</td>\n",
       "        <td>227.36</td>\n",
       "        <td>983.49</td>\n",
       "    </tr>\n",
       "    <tr>\n",
       "        <td>6</td>\n",
       "        <td>1001</td>\n",
       "        <td>2016-03-02 15:29:32</td>\n",
       "        <td>103</td>\n",
       "        <td>24</td>\n",
       "        <td>46</td>\n",
       "        <td>173</td>\n",
       "        <td>513.97</td>\n",
       "        <td>179.76</td>\n",
       "        <td>373.52</td>\n",
       "        <td>1067.25</td>\n",
       "    </tr>\n",
       "    <tr>\n",
       "        <td>7</td>\n",
       "        <td>1001</td>\n",
       "        <td>2016-04-01 11:20:18</td>\n",
       "        <td>101</td>\n",
       "        <td>33</td>\n",
       "        <td>92</td>\n",
       "        <td>226</td>\n",
       "        <td>503.99</td>\n",
       "        <td>247.17</td>\n",
       "        <td>747.04</td>\n",
       "        <td>1498.2</td>\n",
       "    </tr>\n",
       "    <tr>\n",
       "        <td>8</td>\n",
       "        <td>1001</td>\n",
       "        <td>2016-05-01 15:55:51</td>\n",
       "        <td>95</td>\n",
       "        <td>47</td>\n",
       "        <td>151</td>\n",
       "        <td>293</td>\n",
       "        <td>474.05</td>\n",
       "        <td>352.03</td>\n",
       "        <td>1226.12</td>\n",
       "        <td>2052.2</td>\n",
       "    </tr>\n",
       "    <tr>\n",
       "        <td>9</td>\n",
       "        <td>1001</td>\n",
       "        <td>2016-05-31 21:22:48</td>\n",
       "        <td>91</td>\n",
       "        <td>16</td>\n",
       "        <td>22</td>\n",
       "        <td>129</td>\n",
       "        <td>454.09</td>\n",
       "        <td>119.84</td>\n",
       "        <td>178.64</td>\n",
       "        <td>752.57</td>\n",
       "    </tr>\n",
       "    <tr>\n",
       "        <td>10</td>\n",
       "        <td>1001</td>\n",
       "        <td>2016-06-30 12:32:05</td>\n",
       "        <td>94</td>\n",
       "        <td>46</td>\n",
       "        <td>8</td>\n",
       "        <td>148</td>\n",
       "        <td>469.06</td>\n",
       "        <td>344.54</td>\n",
       "        <td>64.96</td>\n",
       "        <td>878.56</td>\n",
       "    </tr>\n",
       "</table>"
      ],
      "text/plain": [
       "[(1, 1001, '2015-10-06 17:31:14', 123, 22, 24, 169, 613.77, 164.78, 194.88, 973.43),\n",
       " (2, 1001, '2015-11-05 03:34:33', 190, 41, 57, 288, 948.1, 307.09, 462.84, 1718.03),\n",
       " (3, 1001, '2015-12-04 04:21:55', 85, 47, 0, 132, 424.15, 352.03, 0, 776.18),\n",
       " (4, 1001, '2016-01-02 01:18:24', 144, 32, 0, 176, 718.56, 239.68, 0, 958.24),\n",
       " (5, 1001, '2016-02-01 19:27:27', 108, 29, 28, 165, 538.92, 217.21, 227.36, 983.49),\n",
       " (6, 1001, '2016-03-02 15:29:32', 103, 24, 46, 173, 513.97, 179.76, 373.52, 1067.25),\n",
       " (7, 1001, '2016-04-01 11:20:18', 101, 33, 92, 226, 503.99, 247.17, 747.04, 1498.2),\n",
       " (8, 1001, '2016-05-01 15:55:51', 95, 47, 151, 293, 474.05, 352.03, 1226.12, 2052.2),\n",
       " (9, 1001, '2016-05-31 21:22:48', 91, 16, 22, 129, 454.09, 119.84, 178.64, 752.57),\n",
       " (10, 1001, '2016-06-30 12:32:05', 94, 46, 8, 148, 469.06, 344.54, 64.96, 878.56)]"
      ]
     },
     "execution_count": 4,
     "metadata": {},
     "output_type": "execute_result"
    }
   ],
   "source": [
    "%%sql\n",
    "SELECT orders.*\n",
    "FROM orders\n",
    "JOIN accounts\n",
    "ON orders.account_id = accounts.id\n",
    "LIMIT 10;"
   ]
  },
  {
   "cell_type": "code",
   "execution_count": 6,
   "metadata": {},
   "outputs": [
    {
     "name": "stdout",
     "output_type": "stream",
     "text": [
      " * sqlite:///parcy_and_posey.db\n",
      "Done.\n"
     ]
    },
    {
     "data": {
      "text/html": [
       "<table>\n",
       "    <tr>\n",
       "        <th>standard_qty</th>\n",
       "        <th>gloss_qty</th>\n",
       "        <th>poster_qty</th>\n",
       "        <th>website</th>\n",
       "        <th>primary_poc</th>\n",
       "    </tr>\n",
       "    <tr>\n",
       "        <td>123</td>\n",
       "        <td>22</td>\n",
       "        <td>24</td>\n",
       "        <td>www.walmart.com</td>\n",
       "        <td>Tamara Tuma</td>\n",
       "    </tr>\n",
       "    <tr>\n",
       "        <td>190</td>\n",
       "        <td>41</td>\n",
       "        <td>57</td>\n",
       "        <td>www.walmart.com</td>\n",
       "        <td>Tamara Tuma</td>\n",
       "    </tr>\n",
       "    <tr>\n",
       "        <td>85</td>\n",
       "        <td>47</td>\n",
       "        <td>0</td>\n",
       "        <td>www.walmart.com</td>\n",
       "        <td>Tamara Tuma</td>\n",
       "    </tr>\n",
       "    <tr>\n",
       "        <td>144</td>\n",
       "        <td>32</td>\n",
       "        <td>0</td>\n",
       "        <td>www.walmart.com</td>\n",
       "        <td>Tamara Tuma</td>\n",
       "    </tr>\n",
       "    <tr>\n",
       "        <td>108</td>\n",
       "        <td>29</td>\n",
       "        <td>28</td>\n",
       "        <td>www.walmart.com</td>\n",
       "        <td>Tamara Tuma</td>\n",
       "    </tr>\n",
       "    <tr>\n",
       "        <td>103</td>\n",
       "        <td>24</td>\n",
       "        <td>46</td>\n",
       "        <td>www.walmart.com</td>\n",
       "        <td>Tamara Tuma</td>\n",
       "    </tr>\n",
       "    <tr>\n",
       "        <td>101</td>\n",
       "        <td>33</td>\n",
       "        <td>92</td>\n",
       "        <td>www.walmart.com</td>\n",
       "        <td>Tamara Tuma</td>\n",
       "    </tr>\n",
       "    <tr>\n",
       "        <td>95</td>\n",
       "        <td>47</td>\n",
       "        <td>151</td>\n",
       "        <td>www.walmart.com</td>\n",
       "        <td>Tamara Tuma</td>\n",
       "    </tr>\n",
       "    <tr>\n",
       "        <td>91</td>\n",
       "        <td>16</td>\n",
       "        <td>22</td>\n",
       "        <td>www.walmart.com</td>\n",
       "        <td>Tamara Tuma</td>\n",
       "    </tr>\n",
       "    <tr>\n",
       "        <td>94</td>\n",
       "        <td>46</td>\n",
       "        <td>8</td>\n",
       "        <td>www.walmart.com</td>\n",
       "        <td>Tamara Tuma</td>\n",
       "    </tr>\n",
       "</table>"
      ],
      "text/plain": [
       "[(123, 22, 24, 'www.walmart.com', 'Tamara Tuma'),\n",
       " (190, 41, 57, 'www.walmart.com', 'Tamara Tuma'),\n",
       " (85, 47, 0, 'www.walmart.com', 'Tamara Tuma'),\n",
       " (144, 32, 0, 'www.walmart.com', 'Tamara Tuma'),\n",
       " (108, 29, 28, 'www.walmart.com', 'Tamara Tuma'),\n",
       " (103, 24, 46, 'www.walmart.com', 'Tamara Tuma'),\n",
       " (101, 33, 92, 'www.walmart.com', 'Tamara Tuma'),\n",
       " (95, 47, 151, 'www.walmart.com', 'Tamara Tuma'),\n",
       " (91, 16, 22, 'www.walmart.com', 'Tamara Tuma'),\n",
       " (94, 46, 8, 'www.walmart.com', 'Tamara Tuma')]"
      ]
     },
     "execution_count": 6,
     "metadata": {},
     "output_type": "execute_result"
    }
   ],
   "source": [
    "%%sql\n",
    "SELECT orders.standard_qty, orders.gloss_qty, \n",
    "        orders.poster_qty,  accounts.website, \n",
    "        accounts.primary_poc\n",
    "FROM orders\n",
    "JOIN accounts\n",
    "ON orders.account_id = accounts.id\n",
    "LIMIT 10;"
   ]
  },
  {
   "cell_type": "code",
   "execution_count": null,
   "metadata": {},
   "outputs": [],
   "source": [
    "%%sql"
   ]
  },
  {
   "cell_type": "code",
   "execution_count": null,
   "metadata": {},
   "outputs": [],
   "source": [
    "%%sql"
   ]
  },
  {
   "cell_type": "code",
   "execution_count": null,
   "metadata": {},
   "outputs": [],
   "source": [
    "%%sql"
   ]
  },
  {
   "cell_type": "code",
   "execution_count": null,
   "metadata": {},
   "outputs": [],
   "source": [
    "%%sql"
   ]
  },
  {
   "cell_type": "code",
   "execution_count": null,
   "metadata": {},
   "outputs": [],
   "source": [
    "%%sql"
   ]
  },
  {
   "cell_type": "code",
   "execution_count": null,
   "metadata": {},
   "outputs": [],
   "source": [
    "%%sql"
   ]
  },
  {
   "cell_type": "code",
   "execution_count": null,
   "metadata": {},
   "outputs": [],
   "source": [
    "%%sql"
   ]
  },
  {
   "cell_type": "code",
   "execution_count": null,
   "metadata": {},
   "outputs": [],
   "source": [
    "%%sql"
   ]
  },
  {
   "cell_type": "code",
   "execution_count": null,
   "metadata": {},
   "outputs": [],
   "source": [
    "%%sql"
   ]
  },
  {
   "cell_type": "code",
   "execution_count": null,
   "metadata": {},
   "outputs": [],
   "source": [
    "%%sql"
   ]
  },
  {
   "cell_type": "code",
   "execution_count": null,
   "metadata": {},
   "outputs": [],
   "source": [
    "%%sql"
   ]
  },
  {
   "cell_type": "code",
   "execution_count": null,
   "metadata": {},
   "outputs": [],
   "source": [
    "%%sql"
   ]
  },
  {
   "cell_type": "code",
   "execution_count": null,
   "metadata": {},
   "outputs": [],
   "source": [
    "%%sql"
   ]
  },
  {
   "cell_type": "code",
   "execution_count": null,
   "metadata": {},
   "outputs": [],
   "source": [
    "%%sql"
   ]
  },
  {
   "cell_type": "code",
   "execution_count": null,
   "metadata": {},
   "outputs": [],
   "source": [
    "%%sql"
   ]
  },
  {
   "cell_type": "code",
   "execution_count": null,
   "metadata": {},
   "outputs": [],
   "source": [
    "%%sql"
   ]
  },
  {
   "cell_type": "code",
   "execution_count": null,
   "metadata": {},
   "outputs": [],
   "source": [
    "%%sql"
   ]
  },
  {
   "cell_type": "code",
   "execution_count": null,
   "metadata": {},
   "outputs": [],
   "source": [
    "%%sql"
   ]
  },
  {
   "cell_type": "code",
   "execution_count": null,
   "metadata": {},
   "outputs": [],
   "source": [
    "%%sql"
   ]
  },
  {
   "cell_type": "code",
   "execution_count": null,
   "metadata": {},
   "outputs": [],
   "source": [
    "%%sql"
   ]
  },
  {
   "cell_type": "code",
   "execution_count": null,
   "metadata": {},
   "outputs": [],
   "source": [
    "%%sql"
   ]
  },
  {
   "cell_type": "code",
   "execution_count": null,
   "metadata": {},
   "outputs": [],
   "source": [
    "%%sql"
   ]
  },
  {
   "cell_type": "code",
   "execution_count": null,
   "metadata": {},
   "outputs": [],
   "source": [
    "%%sql"
   ]
  },
  {
   "cell_type": "code",
   "execution_count": null,
   "metadata": {},
   "outputs": [],
   "source": [
    "%%sql"
   ]
  },
  {
   "cell_type": "code",
   "execution_count": null,
   "metadata": {},
   "outputs": [],
   "source": [
    "%%sql"
   ]
  },
  {
   "cell_type": "code",
   "execution_count": null,
   "metadata": {},
   "outputs": [],
   "source": [
    "%%sql"
   ]
  },
  {
   "cell_type": "code",
   "execution_count": null,
   "metadata": {},
   "outputs": [],
   "source": [
    "%%sql"
   ]
  },
  {
   "cell_type": "code",
   "execution_count": null,
   "metadata": {},
   "outputs": [],
   "source": [
    "%%sql"
   ]
  },
  {
   "cell_type": "code",
   "execution_count": null,
   "metadata": {},
   "outputs": [],
   "source": [
    "%%sql"
   ]
  },
  {
   "cell_type": "code",
   "execution_count": null,
   "metadata": {},
   "outputs": [],
   "source": [
    "%%sql"
   ]
  },
  {
   "cell_type": "code",
   "execution_count": null,
   "metadata": {},
   "outputs": [],
   "source": [
    "%%sql"
   ]
  },
  {
   "cell_type": "code",
   "execution_count": null,
   "metadata": {},
   "outputs": [],
   "source": [
    "%%sql"
   ]
  },
  {
   "cell_type": "code",
   "execution_count": null,
   "metadata": {},
   "outputs": [],
   "source": [
    "%%sql"
   ]
  },
  {
   "cell_type": "code",
   "execution_count": null,
   "metadata": {},
   "outputs": [],
   "source": [
    "%%sql"
   ]
  },
  {
   "cell_type": "code",
   "execution_count": null,
   "metadata": {},
   "outputs": [],
   "source": [
    "%%sql"
   ]
  }
 ],
 "metadata": {
  "kernelspec": {
   "display_name": "Python 3.9.12 ('base')",
   "language": "python",
   "name": "python3"
  },
  "language_info": {
   "codemirror_mode": {
    "name": "ipython",
    "version": 3
   },
   "file_extension": ".py",
   "mimetype": "text/x-python",
   "name": "python",
   "nbconvert_exporter": "python",
   "pygments_lexer": "ipython3",
   "version": "3.9.12"
  },
  "orig_nbformat": 4,
  "vscode": {
   "interpreter": {
    "hash": "ad2bdc8ecc057115af97d19610ffacc2b4e99fae6737bb82f5d7fb13d2f2c186"
   }
  }
 },
 "nbformat": 4,
 "nbformat_minor": 2
}
