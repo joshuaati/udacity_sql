{
 "cells": [
  {
   "cell_type": "code",
   "execution_count": 1,
   "metadata": {},
   "outputs": [],
   "source": [
    "import sqlite3\n",
    "%load_ext sql\n"
   ]
  },
  {
   "cell_type": "code",
   "execution_count": 2,
   "metadata": {},
   "outputs": [],
   "source": [
    "%sql sqlite:///parcy_and_posey.db"
   ]
  },
  {
   "cell_type": "code",
   "execution_count": 4,
   "metadata": {},
   "outputs": [
    {
     "name": "stdout",
     "output_type": "stream",
     "text": [
      " * sqlite:///parcy_and_posey.db\n",
      "Done.\n"
     ]
    },
    {
     "data": {
      "text/html": [
       "<table>\n",
       "    <tr>\n",
       "        <th>id</th>\n",
       "        <th>account_id</th>\n",
       "        <th>occurred_at</th>\n",
       "        <th>standard_qty</th>\n",
       "        <th>gloss_qty</th>\n",
       "        <th>poster_qty</th>\n",
       "        <th>total</th>\n",
       "        <th>standard_amt_usd</th>\n",
       "        <th>gloss_amt_usd</th>\n",
       "        <th>poster_amt_usd</th>\n",
       "        <th>total_amt_usd</th>\n",
       "    </tr>\n",
       "    <tr>\n",
       "        <td>1</td>\n",
       "        <td>1001</td>\n",
       "        <td>2015-10-06 17:31:14</td>\n",
       "        <td>123</td>\n",
       "        <td>22</td>\n",
       "        <td>24</td>\n",
       "        <td>169</td>\n",
       "        <td>613.77</td>\n",
       "        <td>164.78</td>\n",
       "        <td>194.88</td>\n",
       "        <td>973.43</td>\n",
       "    </tr>\n",
       "    <tr>\n",
       "        <td>2</td>\n",
       "        <td>1001</td>\n",
       "        <td>2015-11-05 03:34:33</td>\n",
       "        <td>190</td>\n",
       "        <td>41</td>\n",
       "        <td>57</td>\n",
       "        <td>288</td>\n",
       "        <td>948.1</td>\n",
       "        <td>307.09</td>\n",
       "        <td>462.84</td>\n",
       "        <td>1718.03</td>\n",
       "    </tr>\n",
       "    <tr>\n",
       "        <td>3</td>\n",
       "        <td>1001</td>\n",
       "        <td>2015-12-04 04:21:55</td>\n",
       "        <td>85</td>\n",
       "        <td>47</td>\n",
       "        <td>0</td>\n",
       "        <td>132</td>\n",
       "        <td>424.15</td>\n",
       "        <td>352.03</td>\n",
       "        <td>0</td>\n",
       "        <td>776.18</td>\n",
       "    </tr>\n",
       "    <tr>\n",
       "        <td>4</td>\n",
       "        <td>1001</td>\n",
       "        <td>2016-01-02 01:18:24</td>\n",
       "        <td>144</td>\n",
       "        <td>32</td>\n",
       "        <td>0</td>\n",
       "        <td>176</td>\n",
       "        <td>718.56</td>\n",
       "        <td>239.68</td>\n",
       "        <td>0</td>\n",
       "        <td>958.24</td>\n",
       "    </tr>\n",
       "    <tr>\n",
       "        <td>5</td>\n",
       "        <td>1001</td>\n",
       "        <td>2016-02-01 19:27:27</td>\n",
       "        <td>108</td>\n",
       "        <td>29</td>\n",
       "        <td>28</td>\n",
       "        <td>165</td>\n",
       "        <td>538.92</td>\n",
       "        <td>217.21</td>\n",
       "        <td>227.36</td>\n",
       "        <td>983.49</td>\n",
       "    </tr>\n",
       "    <tr>\n",
       "        <td>6</td>\n",
       "        <td>1001</td>\n",
       "        <td>2016-03-02 15:29:32</td>\n",
       "        <td>103</td>\n",
       "        <td>24</td>\n",
       "        <td>46</td>\n",
       "        <td>173</td>\n",
       "        <td>513.97</td>\n",
       "        <td>179.76</td>\n",
       "        <td>373.52</td>\n",
       "        <td>1067.25</td>\n",
       "    </tr>\n",
       "    <tr>\n",
       "        <td>7</td>\n",
       "        <td>1001</td>\n",
       "        <td>2016-04-01 11:20:18</td>\n",
       "        <td>101</td>\n",
       "        <td>33</td>\n",
       "        <td>92</td>\n",
       "        <td>226</td>\n",
       "        <td>503.99</td>\n",
       "        <td>247.17</td>\n",
       "        <td>747.04</td>\n",
       "        <td>1498.2</td>\n",
       "    </tr>\n",
       "    <tr>\n",
       "        <td>8</td>\n",
       "        <td>1001</td>\n",
       "        <td>2016-05-01 15:55:51</td>\n",
       "        <td>95</td>\n",
       "        <td>47</td>\n",
       "        <td>151</td>\n",
       "        <td>293</td>\n",
       "        <td>474.05</td>\n",
       "        <td>352.03</td>\n",
       "        <td>1226.12</td>\n",
       "        <td>2052.2</td>\n",
       "    </tr>\n",
       "    <tr>\n",
       "        <td>9</td>\n",
       "        <td>1001</td>\n",
       "        <td>2016-05-31 21:22:48</td>\n",
       "        <td>91</td>\n",
       "        <td>16</td>\n",
       "        <td>22</td>\n",
       "        <td>129</td>\n",
       "        <td>454.09</td>\n",
       "        <td>119.84</td>\n",
       "        <td>178.64</td>\n",
       "        <td>752.57</td>\n",
       "    </tr>\n",
       "    <tr>\n",
       "        <td>10</td>\n",
       "        <td>1001</td>\n",
       "        <td>2016-06-30 12:32:05</td>\n",
       "        <td>94</td>\n",
       "        <td>46</td>\n",
       "        <td>8</td>\n",
       "        <td>148</td>\n",
       "        <td>469.06</td>\n",
       "        <td>344.54</td>\n",
       "        <td>64.96</td>\n",
       "        <td>878.56</td>\n",
       "    </tr>\n",
       "</table>"
      ],
      "text/plain": [
       "[(1, 1001, '2015-10-06 17:31:14', 123, 22, 24, 169, 613.77, 164.78, 194.88, 973.43),\n",
       " (2, 1001, '2015-11-05 03:34:33', 190, 41, 57, 288, 948.1, 307.09, 462.84, 1718.03),\n",
       " (3, 1001, '2015-12-04 04:21:55', 85, 47, 0, 132, 424.15, 352.03, 0, 776.18),\n",
       " (4, 1001, '2016-01-02 01:18:24', 144, 32, 0, 176, 718.56, 239.68, 0, 958.24),\n",
       " (5, 1001, '2016-02-01 19:27:27', 108, 29, 28, 165, 538.92, 217.21, 227.36, 983.49),\n",
       " (6, 1001, '2016-03-02 15:29:32', 103, 24, 46, 173, 513.97, 179.76, 373.52, 1067.25),\n",
       " (7, 1001, '2016-04-01 11:20:18', 101, 33, 92, 226, 503.99, 247.17, 747.04, 1498.2),\n",
       " (8, 1001, '2016-05-01 15:55:51', 95, 47, 151, 293, 474.05, 352.03, 1226.12, 2052.2),\n",
       " (9, 1001, '2016-05-31 21:22:48', 91, 16, 22, 129, 454.09, 119.84, 178.64, 752.57),\n",
       " (10, 1001, '2016-06-30 12:32:05', 94, 46, 8, 148, 469.06, 344.54, 64.96, 878.56)]"
      ]
     },
     "execution_count": 4,
     "metadata": {},
     "output_type": "execute_result"
    }
   ],
   "source": [
    "%%sql\n",
    "SELECT orders.*\n",
    "FROM orders\n",
    "JOIN accounts\n",
    "ON orders.account_id = accounts.id\n",
    "LIMIT 10;"
   ]
  },
  {
   "cell_type": "code",
   "execution_count": 6,
   "metadata": {},
   "outputs": [
    {
     "name": "stdout",
     "output_type": "stream",
     "text": [
      " * sqlite:///parcy_and_posey.db\n",
      "Done.\n"
     ]
    },
    {
     "data": {
      "text/html": [
       "<table>\n",
       "    <tr>\n",
       "        <th>standard_qty</th>\n",
       "        <th>gloss_qty</th>\n",
       "        <th>poster_qty</th>\n",
       "        <th>website</th>\n",
       "        <th>primary_poc</th>\n",
       "    </tr>\n",
       "    <tr>\n",
       "        <td>123</td>\n",
       "        <td>22</td>\n",
       "        <td>24</td>\n",
       "        <td>www.walmart.com</td>\n",
       "        <td>Tamara Tuma</td>\n",
       "    </tr>\n",
       "    <tr>\n",
       "        <td>190</td>\n",
       "        <td>41</td>\n",
       "        <td>57</td>\n",
       "        <td>www.walmart.com</td>\n",
       "        <td>Tamara Tuma</td>\n",
       "    </tr>\n",
       "    <tr>\n",
       "        <td>85</td>\n",
       "        <td>47</td>\n",
       "        <td>0</td>\n",
       "        <td>www.walmart.com</td>\n",
       "        <td>Tamara Tuma</td>\n",
       "    </tr>\n",
       "    <tr>\n",
       "        <td>144</td>\n",
       "        <td>32</td>\n",
       "        <td>0</td>\n",
       "        <td>www.walmart.com</td>\n",
       "        <td>Tamara Tuma</td>\n",
       "    </tr>\n",
       "    <tr>\n",
       "        <td>108</td>\n",
       "        <td>29</td>\n",
       "        <td>28</td>\n",
       "        <td>www.walmart.com</td>\n",
       "        <td>Tamara Tuma</td>\n",
       "    </tr>\n",
       "    <tr>\n",
       "        <td>103</td>\n",
       "        <td>24</td>\n",
       "        <td>46</td>\n",
       "        <td>www.walmart.com</td>\n",
       "        <td>Tamara Tuma</td>\n",
       "    </tr>\n",
       "    <tr>\n",
       "        <td>101</td>\n",
       "        <td>33</td>\n",
       "        <td>92</td>\n",
       "        <td>www.walmart.com</td>\n",
       "        <td>Tamara Tuma</td>\n",
       "    </tr>\n",
       "    <tr>\n",
       "        <td>95</td>\n",
       "        <td>47</td>\n",
       "        <td>151</td>\n",
       "        <td>www.walmart.com</td>\n",
       "        <td>Tamara Tuma</td>\n",
       "    </tr>\n",
       "    <tr>\n",
       "        <td>91</td>\n",
       "        <td>16</td>\n",
       "        <td>22</td>\n",
       "        <td>www.walmart.com</td>\n",
       "        <td>Tamara Tuma</td>\n",
       "    </tr>\n",
       "    <tr>\n",
       "        <td>94</td>\n",
       "        <td>46</td>\n",
       "        <td>8</td>\n",
       "        <td>www.walmart.com</td>\n",
       "        <td>Tamara Tuma</td>\n",
       "    </tr>\n",
       "</table>"
      ],
      "text/plain": [
       "[(123, 22, 24, 'www.walmart.com', 'Tamara Tuma'),\n",
       " (190, 41, 57, 'www.walmart.com', 'Tamara Tuma'),\n",
       " (85, 47, 0, 'www.walmart.com', 'Tamara Tuma'),\n",
       " (144, 32, 0, 'www.walmart.com', 'Tamara Tuma'),\n",
       " (108, 29, 28, 'www.walmart.com', 'Tamara Tuma'),\n",
       " (103, 24, 46, 'www.walmart.com', 'Tamara Tuma'),\n",
       " (101, 33, 92, 'www.walmart.com', 'Tamara Tuma'),\n",
       " (95, 47, 151, 'www.walmart.com', 'Tamara Tuma'),\n",
       " (91, 16, 22, 'www.walmart.com', 'Tamara Tuma'),\n",
       " (94, 46, 8, 'www.walmart.com', 'Tamara Tuma')]"
      ]
     },
     "execution_count": 6,
     "metadata": {},
     "output_type": "execute_result"
    }
   ],
   "source": [
    "%%sql\n",
    "SELECT orders.standard_qty, orders.gloss_qty, \n",
    "        orders.poster_qty,  accounts.website, \n",
    "        accounts.primary_poc\n",
    "FROM orders\n",
    "        JOIN accounts\n",
    "                ON orders.account_id = accounts.id\n",
    "LIMIT 10;"
   ]
  },
  {
   "cell_type": "markdown",
   "metadata": {},
   "source": [
    "Provide a table for all the for all web_events associated with account name of `Walmart`. There should be three columns. Be sure to include the `primary_poc`, time of the event, and the `channel` for each event. Additionally, you might choose to add a fourth column to assure only `Walmart` events were chosen"
   ]
  },
  {
   "cell_type": "code",
   "execution_count": 8,
   "metadata": {},
   "outputs": [
    {
     "name": "stdout",
     "output_type": "stream",
     "text": [
      " * sqlite:///parcy_and_posey.db\n",
      "Done.\n"
     ]
    },
    {
     "data": {
      "text/html": [
       "<table>\n",
       "    <tr>\n",
       "        <th>primary_poc</th>\n",
       "        <th>occurred_at</th>\n",
       "        <th>channel</th>\n",
       "        <th>name</th>\n",
       "    </tr>\n",
       "    <tr>\n",
       "        <td>Tamara Tuma</td>\n",
       "        <td>2015-10-06 17:13:58</td>\n",
       "        <td>direct</td>\n",
       "        <td>Walmart</td>\n",
       "    </tr>\n",
       "    <tr>\n",
       "        <td>Tamara Tuma</td>\n",
       "        <td>2015-11-05 03:08:26</td>\n",
       "        <td>direct</td>\n",
       "        <td>Walmart</td>\n",
       "    </tr>\n",
       "    <tr>\n",
       "        <td>Tamara Tuma</td>\n",
       "        <td>2015-12-04 03:57:24</td>\n",
       "        <td>direct</td>\n",
       "        <td>Walmart</td>\n",
       "    </tr>\n",
       "    <tr>\n",
       "        <td>Tamara Tuma</td>\n",
       "        <td>2016-01-02 00:55:03</td>\n",
       "        <td>direct</td>\n",
       "        <td>Walmart</td>\n",
       "    </tr>\n",
       "    <tr>\n",
       "        <td>Tamara Tuma</td>\n",
       "        <td>2016-02-01 19:02:33</td>\n",
       "        <td>direct</td>\n",
       "        <td>Walmart</td>\n",
       "    </tr>\n",
       "    <tr>\n",
       "        <td>Tamara Tuma</td>\n",
       "        <td>2016-03-02 15:15:22</td>\n",
       "        <td>direct</td>\n",
       "        <td>Walmart</td>\n",
       "    </tr>\n",
       "    <tr>\n",
       "        <td>Tamara Tuma</td>\n",
       "        <td>2016-04-01 10:58:55</td>\n",
       "        <td>direct</td>\n",
       "        <td>Walmart</td>\n",
       "    </tr>\n",
       "    <tr>\n",
       "        <td>Tamara Tuma</td>\n",
       "        <td>2016-05-01 15:26:44</td>\n",
       "        <td>direct</td>\n",
       "        <td>Walmart</td>\n",
       "    </tr>\n",
       "    <tr>\n",
       "        <td>Tamara Tuma</td>\n",
       "        <td>2016-05-31 20:53:47</td>\n",
       "        <td>direct</td>\n",
       "        <td>Walmart</td>\n",
       "    </tr>\n",
       "    <tr>\n",
       "        <td>Tamara Tuma</td>\n",
       "        <td>2016-06-30 12:09:45</td>\n",
       "        <td>direct</td>\n",
       "        <td>Walmart</td>\n",
       "    </tr>\n",
       "</table>"
      ],
      "text/plain": [
       "[('Tamara Tuma', '2015-10-06 17:13:58', 'direct', 'Walmart'),\n",
       " ('Tamara Tuma', '2015-11-05 03:08:26', 'direct', 'Walmart'),\n",
       " ('Tamara Tuma', '2015-12-04 03:57:24', 'direct', 'Walmart'),\n",
       " ('Tamara Tuma', '2016-01-02 00:55:03', 'direct', 'Walmart'),\n",
       " ('Tamara Tuma', '2016-02-01 19:02:33', 'direct', 'Walmart'),\n",
       " ('Tamara Tuma', '2016-03-02 15:15:22', 'direct', 'Walmart'),\n",
       " ('Tamara Tuma', '2016-04-01 10:58:55', 'direct', 'Walmart'),\n",
       " ('Tamara Tuma', '2016-05-01 15:26:44', 'direct', 'Walmart'),\n",
       " ('Tamara Tuma', '2016-05-31 20:53:47', 'direct', 'Walmart'),\n",
       " ('Tamara Tuma', '2016-06-30 12:09:45', 'direct', 'Walmart')]"
      ]
     },
     "execution_count": 8,
     "metadata": {},
     "output_type": "execute_result"
    }
   ],
   "source": [
    "%%sql\n",
    "SELECT a.primary_poc, w.occurred_at, w.channel, a.name\n",
    "FROM web_events w\n",
    "    JOIN accounts a\n",
    "        ON w.account_id = a.id\n",
    "    WHERE a.name = 'Walmart'\n",
    "LIMIT 10;"
   ]
  },
  {
   "cell_type": "markdown",
   "metadata": {},
   "source": [
    "Provide a table that provides the region for each sales_rep along with their associated accounts. Your final table should include three columns: the region name, the sales rep name, and the account name. Sort the accounts alphabetically (A-Z) according to account name."
   ]
  },
  {
   "cell_type": "code",
   "execution_count": 10,
   "metadata": {},
   "outputs": [
    {
     "name": "stdout",
     "output_type": "stream",
     "text": [
      " * sqlite:///parcy_and_posey.db\n",
      "Done.\n"
     ]
    },
    {
     "data": {
      "text/html": [
       "<table>\n",
       "    <tr>\n",
       "        <th>region</th>\n",
       "        <th>rep</th>\n",
       "        <th>account</th>\n",
       "    </tr>\n",
       "    <tr>\n",
       "        <td>Northeast</td>\n",
       "        <td>Sibyl Lauria</td>\n",
       "        <td>3M</td>\n",
       "    </tr>\n",
       "    <tr>\n",
       "        <td>Southeast</td>\n",
       "        <td>Earlie Schleusner</td>\n",
       "        <td>ADP</td>\n",
       "    </tr>\n",
       "    <tr>\n",
       "        <td>Southeast</td>\n",
       "        <td>Moon Torian</td>\n",
       "        <td>AECOM</td>\n",
       "    </tr>\n",
       "    <tr>\n",
       "        <td>Southeast</td>\n",
       "        <td>Calvin Ollison</td>\n",
       "        <td>AES</td>\n",
       "    </tr>\n",
       "    <tr>\n",
       "        <td>Northeast</td>\n",
       "        <td>Elba Felder</td>\n",
       "        <td>AIG</td>\n",
       "    </tr>\n",
       "    <tr>\n",
       "        <td>Northeast</td>\n",
       "        <td>Necole Victory</td>\n",
       "        <td>AT&amp;T</td>\n",
       "    </tr>\n",
       "    <tr>\n",
       "        <td>Midwest</td>\n",
       "        <td>Julie Starr</td>\n",
       "        <td>AbbVie</td>\n",
       "    </tr>\n",
       "    <tr>\n",
       "        <td>Midwest</td>\n",
       "        <td>Chau Rowles</td>\n",
       "        <td>Abbott Laboratories</td>\n",
       "    </tr>\n",
       "    <tr>\n",
       "        <td>West</td>\n",
       "        <td>Marquetta Laycock</td>\n",
       "        <td>Advance Auto Parts</td>\n",
       "    </tr>\n",
       "    <tr>\n",
       "        <td>Northeast</td>\n",
       "        <td>Renetta Carew</td>\n",
       "        <td>Aetna</td>\n",
       "    </tr>\n",
       "</table>"
      ],
      "text/plain": [
       "[('Northeast', 'Sibyl Lauria', '3M'),\n",
       " ('Southeast', 'Earlie Schleusner', 'ADP'),\n",
       " ('Southeast', 'Moon Torian', 'AECOM'),\n",
       " ('Southeast', 'Calvin Ollison', 'AES'),\n",
       " ('Northeast', 'Elba Felder', 'AIG'),\n",
       " ('Northeast', 'Necole Victory', 'AT&T'),\n",
       " ('Midwest', 'Julie Starr', 'AbbVie'),\n",
       " ('Midwest', 'Chau Rowles', 'Abbott Laboratories'),\n",
       " ('West', 'Marquetta Laycock', 'Advance Auto Parts'),\n",
       " ('Northeast', 'Renetta Carew', 'Aetna')]"
      ]
     },
     "execution_count": 10,
     "metadata": {},
     "output_type": "execute_result"
    }
   ],
   "source": [
    "%%sql\n",
    "SELECT r.name region, s.name rep, a.name account\n",
    "FROM sales_reps s\n",
    "    JOIN region r\n",
    "        ON s.region_id = r.id\n",
    "    JOIN accounts a\n",
    "        ON a.sales_rep_id = s.id\n",
    "ORDER BY a.name\n",
    "LIMIT 10;"
   ]
  },
  {
   "cell_type": "markdown",
   "metadata": {},
   "source": [
    "Provide the name for each region for every order, as well as the account name and the unit price they paid (total_amt_usd/total) for the order. Your final table should have 3 columns: region name, account name, and unit price. A few accounts have 0 for total, so I divided by (total + 0.01) to assure not dividing by zero."
   ]
  },
  {
   "cell_type": "code",
   "execution_count": 12,
   "metadata": {},
   "outputs": [
    {
     "name": "stdout",
     "output_type": "stream",
     "text": [
      " * sqlite:///parcy_and_posey.db\n",
      "Done.\n"
     ]
    },
    {
     "data": {
      "text/html": [
       "<table>\n",
       "    <tr>\n",
       "        <th>region</th>\n",
       "        <th>account</th>\n",
       "        <th>unit_price</th>\n",
       "    </tr>\n",
       "    <tr>\n",
       "        <td>Northeast</td>\n",
       "        <td>Walmart</td>\n",
       "        <td>5.759600023667239</td>\n",
       "    </tr>\n",
       "    <tr>\n",
       "        <td>Northeast</td>\n",
       "        <td>Walmart</td>\n",
       "        <td>5.965174820318739</td>\n",
       "    </tr>\n",
       "    <tr>\n",
       "        <td>Northeast</td>\n",
       "        <td>Walmart</td>\n",
       "        <td>5.879706082872509</td>\n",
       "    </tr>\n",
       "    <tr>\n",
       "        <td>Northeast</td>\n",
       "        <td>Walmart</td>\n",
       "        <td>5.44423612294756</td>\n",
       "    </tr>\n",
       "    <tr>\n",
       "        <td>Northeast</td>\n",
       "        <td>Walmart</td>\n",
       "        <td>5.960184231258712</td>\n",
       "    </tr>\n",
       "    <tr>\n",
       "        <td>Northeast</td>\n",
       "        <td>Walmart</td>\n",
       "        <td>6.1687185711808565</td>\n",
       "    </tr>\n",
       "    <tr>\n",
       "        <td>Northeast</td>\n",
       "        <td>Walmart</td>\n",
       "        <td>6.628910225211274</td>\n",
       "    </tr>\n",
       "    <tr>\n",
       "        <td>Northeast</td>\n",
       "        <td>Walmart</td>\n",
       "        <td>7.003856523668134</td>\n",
       "    </tr>\n",
       "    <tr>\n",
       "        <td>Northeast</td>\n",
       "        <td>Walmart</td>\n",
       "        <td>5.833423765599567</td>\n",
       "    </tr>\n",
       "    <tr>\n",
       "        <td>Northeast</td>\n",
       "        <td>Walmart</td>\n",
       "        <td>5.935815147625161</td>\n",
       "    </tr>\n",
       "</table>"
      ],
      "text/plain": [
       "[('Northeast', 'Walmart', 5.759600023667239),\n",
       " ('Northeast', 'Walmart', 5.965174820318739),\n",
       " ('Northeast', 'Walmart', 5.879706082872509),\n",
       " ('Northeast', 'Walmart', 5.44423612294756),\n",
       " ('Northeast', 'Walmart', 5.960184231258712),\n",
       " ('Northeast', 'Walmart', 6.1687185711808565),\n",
       " ('Northeast', 'Walmart', 6.628910225211274),\n",
       " ('Northeast', 'Walmart', 7.003856523668134),\n",
       " ('Northeast', 'Walmart', 5.833423765599567),\n",
       " ('Northeast', 'Walmart', 5.935815147625161)]"
      ]
     },
     "execution_count": 12,
     "metadata": {},
     "output_type": "execute_result"
    }
   ],
   "source": [
    "%%sql\n",
    "SELECT r.name region, a.name account, \n",
    "    o.total_amt_usd/(o.total + 0.01) unit_price\n",
    "FROM region r\n",
    "    JOIN sales_reps s\n",
    "        ON s.region_id = r.id\n",
    "    JOIN accounts a\n",
    "        ON a.sales_rep_id = s.id\n",
    "    JOIN orders o\n",
    "        ON o.account_id = a.id\n",
    "LIMIT 10;"
   ]
  },
  {
   "cell_type": "code",
   "execution_count": null,
   "metadata": {},
   "outputs": [],
   "source": [
    "%%sql"
   ]
  },
  {
   "cell_type": "code",
   "execution_count": null,
   "metadata": {},
   "outputs": [],
   "source": [
    "%%sql"
   ]
  },
  {
   "cell_type": "code",
   "execution_count": null,
   "metadata": {},
   "outputs": [],
   "source": [
    "%%sql"
   ]
  },
  {
   "cell_type": "code",
   "execution_count": null,
   "metadata": {},
   "outputs": [],
   "source": [
    "%%sql"
   ]
  },
  {
   "cell_type": "code",
   "execution_count": null,
   "metadata": {},
   "outputs": [],
   "source": [
    "%%sql"
   ]
  },
  {
   "cell_type": "code",
   "execution_count": null,
   "metadata": {},
   "outputs": [],
   "source": [
    "%%sql"
   ]
  },
  {
   "cell_type": "code",
   "execution_count": null,
   "metadata": {},
   "outputs": [],
   "source": [
    "%%sql"
   ]
  },
  {
   "cell_type": "code",
   "execution_count": null,
   "metadata": {},
   "outputs": [],
   "source": [
    "%%sql"
   ]
  },
  {
   "cell_type": "code",
   "execution_count": null,
   "metadata": {},
   "outputs": [],
   "source": [
    "%%sql"
   ]
  },
  {
   "cell_type": "code",
   "execution_count": null,
   "metadata": {},
   "outputs": [],
   "source": [
    "%%sql"
   ]
  },
  {
   "cell_type": "code",
   "execution_count": null,
   "metadata": {},
   "outputs": [],
   "source": [
    "%%sql"
   ]
  },
  {
   "cell_type": "code",
   "execution_count": null,
   "metadata": {},
   "outputs": [],
   "source": [
    "%%sql"
   ]
  },
  {
   "cell_type": "code",
   "execution_count": null,
   "metadata": {},
   "outputs": [],
   "source": [
    "%%sql"
   ]
  },
  {
   "cell_type": "code",
   "execution_count": null,
   "metadata": {},
   "outputs": [],
   "source": [
    "%%sql"
   ]
  },
  {
   "cell_type": "code",
   "execution_count": null,
   "metadata": {},
   "outputs": [],
   "source": [
    "%%sql"
   ]
  },
  {
   "cell_type": "code",
   "execution_count": null,
   "metadata": {},
   "outputs": [],
   "source": [
    "%%sql"
   ]
  },
  {
   "cell_type": "code",
   "execution_count": null,
   "metadata": {},
   "outputs": [],
   "source": [
    "%%sql"
   ]
  },
  {
   "cell_type": "code",
   "execution_count": null,
   "metadata": {},
   "outputs": [],
   "source": [
    "%%sql"
   ]
  },
  {
   "cell_type": "code",
   "execution_count": null,
   "metadata": {},
   "outputs": [],
   "source": [
    "%%sql"
   ]
  },
  {
   "cell_type": "code",
   "execution_count": null,
   "metadata": {},
   "outputs": [],
   "source": [
    "%%sql"
   ]
  },
  {
   "cell_type": "code",
   "execution_count": null,
   "metadata": {},
   "outputs": [],
   "source": [
    "%%sql"
   ]
  },
  {
   "cell_type": "code",
   "execution_count": null,
   "metadata": {},
   "outputs": [],
   "source": [
    "%%sql"
   ]
  },
  {
   "cell_type": "code",
   "execution_count": null,
   "metadata": {},
   "outputs": [],
   "source": [
    "%%sql"
   ]
  },
  {
   "cell_type": "code",
   "execution_count": null,
   "metadata": {},
   "outputs": [],
   "source": [
    "%%sql"
   ]
  },
  {
   "cell_type": "code",
   "execution_count": null,
   "metadata": {},
   "outputs": [],
   "source": [
    "%%sql"
   ]
  },
  {
   "cell_type": "code",
   "execution_count": null,
   "metadata": {},
   "outputs": [],
   "source": [
    "%%sql"
   ]
  },
  {
   "cell_type": "code",
   "execution_count": null,
   "metadata": {},
   "outputs": [],
   "source": [
    "%%sql"
   ]
  },
  {
   "cell_type": "code",
   "execution_count": null,
   "metadata": {},
   "outputs": [],
   "source": [
    "%%sql"
   ]
  },
  {
   "cell_type": "code",
   "execution_count": null,
   "metadata": {},
   "outputs": [],
   "source": [
    "%%sql"
   ]
  },
  {
   "cell_type": "code",
   "execution_count": null,
   "metadata": {},
   "outputs": [],
   "source": [
    "%%sql"
   ]
  },
  {
   "cell_type": "code",
   "execution_count": null,
   "metadata": {},
   "outputs": [],
   "source": [
    "%%sql"
   ]
  },
  {
   "cell_type": "code",
   "execution_count": null,
   "metadata": {},
   "outputs": [],
   "source": [
    "%%sql"
   ]
  }
 ],
 "metadata": {
  "kernelspec": {
   "display_name": "Python 3.9.12 ('base')",
   "language": "python",
   "name": "python3"
  },
  "language_info": {
   "codemirror_mode": {
    "name": "ipython",
    "version": 3
   },
   "file_extension": ".py",
   "mimetype": "text/x-python",
   "name": "python",
   "nbconvert_exporter": "python",
   "pygments_lexer": "ipython3",
   "version": "3.9.12"
  },
  "orig_nbformat": 4,
  "vscode": {
   "interpreter": {
    "hash": "ad2bdc8ecc057115af97d19610ffacc2b4e99fae6737bb82f5d7fb13d2f2c186"
   }
  }
 },
 "nbformat": 4,
 "nbformat_minor": 2
}
