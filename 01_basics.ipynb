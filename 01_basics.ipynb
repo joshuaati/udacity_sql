{
 "cells": [
  {
   "cell_type": "code",
   "execution_count": 1,
   "metadata": {},
   "outputs": [],
   "source": [
    "import sqlite3\n",
    "%load_ext sql"
   ]
  },
  {
   "cell_type": "code",
   "execution_count": 2,
   "metadata": {},
   "outputs": [],
   "source": [
    "%sql sqlite:///parcy_and_posey.db"
   ]
  },
  {
   "cell_type": "code",
   "execution_count": 3,
   "metadata": {},
   "outputs": [
    {
     "name": "stdout",
     "output_type": "stream",
     "text": [
      " * sqlite:///parcy_and_posey.db\n",
      "Done.\n"
     ]
    },
    {
     "data": {
      "text/html": [
       "<table>\n",
       "    <tr>\n",
       "        <th>occurred_at</th>\n",
       "        <th>account_id</th>\n",
       "        <th>channel</th>\n",
       "    </tr>\n",
       "    <tr>\n",
       "        <td>2015-10-06 17:13:58</td>\n",
       "        <td>1001</td>\n",
       "        <td>direct</td>\n",
       "    </tr>\n",
       "    <tr>\n",
       "        <td>2015-11-05 03:08:26</td>\n",
       "        <td>1001</td>\n",
       "        <td>direct</td>\n",
       "    </tr>\n",
       "    <tr>\n",
       "        <td>2015-12-04 03:57:24</td>\n",
       "        <td>1001</td>\n",
       "        <td>direct</td>\n",
       "    </tr>\n",
       "    <tr>\n",
       "        <td>2016-01-02 00:55:03</td>\n",
       "        <td>1001</td>\n",
       "        <td>direct</td>\n",
       "    </tr>\n",
       "    <tr>\n",
       "        <td>2016-02-01 19:02:33</td>\n",
       "        <td>1001</td>\n",
       "        <td>direct</td>\n",
       "    </tr>\n",
       "    <tr>\n",
       "        <td>2016-03-02 15:15:22</td>\n",
       "        <td>1001</td>\n",
       "        <td>direct</td>\n",
       "    </tr>\n",
       "    <tr>\n",
       "        <td>2016-04-01 10:58:55</td>\n",
       "        <td>1001</td>\n",
       "        <td>direct</td>\n",
       "    </tr>\n",
       "    <tr>\n",
       "        <td>2016-05-01 15:26:44</td>\n",
       "        <td>1001</td>\n",
       "        <td>direct</td>\n",
       "    </tr>\n",
       "    <tr>\n",
       "        <td>2016-05-31 20:53:47</td>\n",
       "        <td>1001</td>\n",
       "        <td>direct</td>\n",
       "    </tr>\n",
       "    <tr>\n",
       "        <td>2016-06-30 12:09:45</td>\n",
       "        <td>1001</td>\n",
       "        <td>direct</td>\n",
       "    </tr>\n",
       "    <tr>\n",
       "        <td>2016-07-30 03:06:26</td>\n",
       "        <td>1001</td>\n",
       "        <td>direct</td>\n",
       "    </tr>\n",
       "    <tr>\n",
       "        <td>2016-08-28 06:42:42</td>\n",
       "        <td>1001</td>\n",
       "        <td>direct</td>\n",
       "    </tr>\n",
       "    <tr>\n",
       "        <td>2016-09-26 23:14:59</td>\n",
       "        <td>1001</td>\n",
       "        <td>direct</td>\n",
       "    </tr>\n",
       "    <tr>\n",
       "        <td>2016-10-26 20:21:09</td>\n",
       "        <td>1001</td>\n",
       "        <td>direct</td>\n",
       "    </tr>\n",
       "    <tr>\n",
       "        <td>2016-11-25 22:52:29</td>\n",
       "        <td>1001</td>\n",
       "        <td>direct</td>\n",
       "    </tr>\n",
       "</table>"
      ],
      "text/plain": [
       "[('2015-10-06 17:13:58', 1001, 'direct'),\n",
       " ('2015-11-05 03:08:26', 1001, 'direct'),\n",
       " ('2015-12-04 03:57:24', 1001, 'direct'),\n",
       " ('2016-01-02 00:55:03', 1001, 'direct'),\n",
       " ('2016-02-01 19:02:33', 1001, 'direct'),\n",
       " ('2016-03-02 15:15:22', 1001, 'direct'),\n",
       " ('2016-04-01 10:58:55', 1001, 'direct'),\n",
       " ('2016-05-01 15:26:44', 1001, 'direct'),\n",
       " ('2016-05-31 20:53:47', 1001, 'direct'),\n",
       " ('2016-06-30 12:09:45', 1001, 'direct'),\n",
       " ('2016-07-30 03:06:26', 1001, 'direct'),\n",
       " ('2016-08-28 06:42:42', 1001, 'direct'),\n",
       " ('2016-09-26 23:14:59', 1001, 'direct'),\n",
       " ('2016-10-26 20:21:09', 1001, 'direct'),\n",
       " ('2016-11-25 22:52:29', 1001, 'direct')]"
      ]
     },
     "execution_count": 3,
     "metadata": {},
     "output_type": "execute_result"
    }
   ],
   "source": [
    "%%sql\n",
    "SELECT occurred_at, account_id, channel\n",
    "FROM web_events\n",
    "LIMIT 15;"
   ]
  },
  {
   "cell_type": "markdown",
   "metadata": {},
   "source": [
    "## ORDER BY clause"
   ]
  },
  {
   "cell_type": "markdown",
   "metadata": {},
   "source": [
    "1. Write a query to return the 10 earliest orders in the orders table. Include the `id`, `occurred_at`, and `total_amt_usd`."
   ]
  },
  {
   "cell_type": "code",
   "execution_count": 4,
   "metadata": {},
   "outputs": [
    {
     "name": "stdout",
     "output_type": "stream",
     "text": [
      " * sqlite:///parcy_and_posey.db\n",
      "Done.\n"
     ]
    },
    {
     "data": {
      "text/html": [
       "<table>\n",
       "    <tr>\n",
       "        <th>id</th>\n",
       "        <th>occurred_at</th>\n",
       "        <th>total_amt_usd</th>\n",
       "    </tr>\n",
       "    <tr>\n",
       "        <td>5786</td>\n",
       "        <td>2013-12-04 04:22:44</td>\n",
       "        <td>627.48</td>\n",
       "    </tr>\n",
       "    <tr>\n",
       "        <td>2415</td>\n",
       "        <td>2013-12-04 04:45:54</td>\n",
       "        <td>2646.77</td>\n",
       "    </tr>\n",
       "    <tr>\n",
       "        <td>4108</td>\n",
       "        <td>2013-12-04 04:53:25</td>\n",
       "        <td>2709.62</td>\n",
       "    </tr>\n",
       "    <tr>\n",
       "        <td>4489</td>\n",
       "        <td>2013-12-05 20:29:16</td>\n",
       "        <td>277.13</td>\n",
       "    </tr>\n",
       "    <tr>\n",
       "        <td>287</td>\n",
       "        <td>2013-12-05 20:33:56</td>\n",
       "        <td>3001.85</td>\n",
       "    </tr>\n",
       "    <tr>\n",
       "        <td>1946</td>\n",
       "        <td>2013-12-06 02:13:20</td>\n",
       "        <td>2802.9</td>\n",
       "    </tr>\n",
       "    <tr>\n",
       "        <td>6197</td>\n",
       "        <td>2013-12-06 12:55:22</td>\n",
       "        <td>7009.18</td>\n",
       "    </tr>\n",
       "    <tr>\n",
       "        <td>3122</td>\n",
       "        <td>2013-12-06 12:57:41</td>\n",
       "        <td>1992.13</td>\n",
       "    </tr>\n",
       "    <tr>\n",
       "        <td>6078</td>\n",
       "        <td>2013-12-06 13:14:47</td>\n",
       "        <td>6680.06</td>\n",
       "    </tr>\n",
       "    <tr>\n",
       "        <td>2932</td>\n",
       "        <td>2013-12-06 13:17:25</td>\n",
       "        <td>2075.94</td>\n",
       "    </tr>\n",
       "</table>"
      ],
      "text/plain": [
       "[(5786, '2013-12-04 04:22:44', 627.48),\n",
       " (2415, '2013-12-04 04:45:54', 2646.77),\n",
       " (4108, '2013-12-04 04:53:25', 2709.62),\n",
       " (4489, '2013-12-05 20:29:16', 277.13),\n",
       " (287, '2013-12-05 20:33:56', 3001.85),\n",
       " (1946, '2013-12-06 02:13:20', 2802.9),\n",
       " (6197, '2013-12-06 12:55:22', 7009.18),\n",
       " (3122, '2013-12-06 12:57:41', 1992.13),\n",
       " (6078, '2013-12-06 13:14:47', 6680.06),\n",
       " (2932, '2013-12-06 13:17:25', 2075.94)]"
      ]
     },
     "execution_count": 4,
     "metadata": {},
     "output_type": "execute_result"
    }
   ],
   "source": [
    "%%sql\n",
    "SELECT id, occurred_at, total_amt_usd\n",
    "FROM orders\n",
    "ORDER BY occurred_at\n",
    "LIMIT 10;"
   ]
  },
  {
   "cell_type": "markdown",
   "metadata": {},
   "source": [
    "2. Write a query to return the top 5 orders in terms of the largest total_amt_usd. Include the id, account_id, and total_amt_usd"
   ]
  },
  {
   "cell_type": "code",
   "execution_count": 5,
   "metadata": {},
   "outputs": [
    {
     "name": "stdout",
     "output_type": "stream",
     "text": [
      " * sqlite:///parcy_and_posey.db\n",
      "Done.\n"
     ]
    },
    {
     "data": {
      "text/html": [
       "<table>\n",
       "    <tr>\n",
       "        <th>id</th>\n",
       "        <th>account_id</th>\n",
       "        <th>total_amt_usd</th>\n",
       "    </tr>\n",
       "    <tr>\n",
       "        <td>4016</td>\n",
       "        <td>4251</td>\n",
       "        <td>232207.07</td>\n",
       "    </tr>\n",
       "    <tr>\n",
       "        <td>3892</td>\n",
       "        <td>4161</td>\n",
       "        <td>112875.18</td>\n",
       "    </tr>\n",
       "    <tr>\n",
       "        <td>3963</td>\n",
       "        <td>4211</td>\n",
       "        <td>107533.55</td>\n",
       "    </tr>\n",
       "    <tr>\n",
       "        <td>5791</td>\n",
       "        <td>2861</td>\n",
       "        <td>95005.82</td>\n",
       "    </tr>\n",
       "    <tr>\n",
       "        <td>3778</td>\n",
       "        <td>4101</td>\n",
       "        <td>93547.84</td>\n",
       "    </tr>\n",
       "</table>"
      ],
      "text/plain": [
       "[(4016, 4251, 232207.07),\n",
       " (3892, 4161, 112875.18),\n",
       " (3963, 4211, 107533.55),\n",
       " (5791, 2861, 95005.82),\n",
       " (3778, 4101, 93547.84)]"
      ]
     },
     "execution_count": 5,
     "metadata": {},
     "output_type": "execute_result"
    }
   ],
   "source": [
    "%%sql\n",
    "SELECT id, account_id, total_amt_usd\n",
    "FROM orders\n",
    "ORDER BY total_amt_usd DESC \n",
    "LIMIT 5;"
   ]
  },
  {
   "cell_type": "markdown",
   "metadata": {},
   "source": [
    "3. Write a query to return the lowest 20 orders in terms of the smallest total_amt_usd. Include the id, account_id, and total_amt_usd"
   ]
  },
  {
   "cell_type": "code",
   "execution_count": 6,
   "metadata": {},
   "outputs": [
    {
     "name": "stdout",
     "output_type": "stream",
     "text": [
      " * sqlite:///parcy_and_posey.db\n",
      "Done.\n"
     ]
    },
    {
     "data": {
      "text/html": [
       "<table>\n",
       "    <tr>\n",
       "        <th>id</th>\n",
       "        <th>account_id</th>\n",
       "        <th>total_amt_usd</th>\n",
       "    </tr>\n",
       "    <tr>\n",
       "        <td>124</td>\n",
       "        <td>1131</td>\n",
       "        <td>0</td>\n",
       "    </tr>\n",
       "    <tr>\n",
       "        <td>1353</td>\n",
       "        <td>1951</td>\n",
       "        <td>0</td>\n",
       "    </tr>\n",
       "    <tr>\n",
       "        <td>2518</td>\n",
       "        <td>2881</td>\n",
       "        <td>0</td>\n",
       "    </tr>\n",
       "    <tr>\n",
       "        <td>4445</td>\n",
       "        <td>1221</td>\n",
       "        <td>0</td>\n",
       "    </tr>\n",
       "    <tr>\n",
       "        <td>4446</td>\n",
       "        <td>1231</td>\n",
       "        <td>0</td>\n",
       "    </tr>\n",
       "    <tr>\n",
       "        <td>4490</td>\n",
       "        <td>1281</td>\n",
       "        <td>0</td>\n",
       "    </tr>\n",
       "    <tr>\n",
       "        <td>4625</td>\n",
       "        <td>1411</td>\n",
       "        <td>0</td>\n",
       "    </tr>\n",
       "    <tr>\n",
       "        <td>4770</td>\n",
       "        <td>1521</td>\n",
       "        <td>0</td>\n",
       "    </tr>\n",
       "    <tr>\n",
       "        <td>4844</td>\n",
       "        <td>1571</td>\n",
       "        <td>0</td>\n",
       "    </tr>\n",
       "    <tr>\n",
       "        <td>5001</td>\n",
       "        <td>1791</td>\n",
       "        <td>0</td>\n",
       "    </tr>\n",
       "    <tr>\n",
       "        <td>5057</td>\n",
       "        <td>1851</td>\n",
       "        <td>0</td>\n",
       "    </tr>\n",
       "    <tr>\n",
       "        <td>5612</td>\n",
       "        <td>2601</td>\n",
       "        <td>0</td>\n",
       "    </tr>\n",
       "    <tr>\n",
       "        <td>6009</td>\n",
       "        <td>3141</td>\n",
       "        <td>0</td>\n",
       "    </tr>\n",
       "    <tr>\n",
       "        <td>6281</td>\n",
       "        <td>3491</td>\n",
       "        <td>0</td>\n",
       "    </tr>\n",
       "    <tr>\n",
       "        <td>6312</td>\n",
       "        <td>3541</td>\n",
       "        <td>0</td>\n",
       "    </tr>\n",
       "    <tr>\n",
       "        <td>6323</td>\n",
       "        <td>3551</td>\n",
       "        <td>0</td>\n",
       "    </tr>\n",
       "    <tr>\n",
       "        <td>6375</td>\n",
       "        <td>3651</td>\n",
       "        <td>0</td>\n",
       "    </tr>\n",
       "    <tr>\n",
       "        <td>6435</td>\n",
       "        <td>3801</td>\n",
       "        <td>0</td>\n",
       "    </tr>\n",
       "    <tr>\n",
       "        <td>6523</td>\n",
       "        <td>3991</td>\n",
       "        <td>0</td>\n",
       "    </tr>\n",
       "    <tr>\n",
       "        <td>6856</td>\n",
       "        <td>4451</td>\n",
       "        <td>0</td>\n",
       "    </tr>\n",
       "</table>"
      ],
      "text/plain": [
       "[(124, 1131, 0),\n",
       " (1353, 1951, 0),\n",
       " (2518, 2881, 0),\n",
       " (4445, 1221, 0),\n",
       " (4446, 1231, 0),\n",
       " (4490, 1281, 0),\n",
       " (4625, 1411, 0),\n",
       " (4770, 1521, 0),\n",
       " (4844, 1571, 0),\n",
       " (5001, 1791, 0),\n",
       " (5057, 1851, 0),\n",
       " (5612, 2601, 0),\n",
       " (6009, 3141, 0),\n",
       " (6281, 3491, 0),\n",
       " (6312, 3541, 0),\n",
       " (6323, 3551, 0),\n",
       " (6375, 3651, 0),\n",
       " (6435, 3801, 0),\n",
       " (6523, 3991, 0),\n",
       " (6856, 4451, 0)]"
      ]
     },
     "execution_count": 6,
     "metadata": {},
     "output_type": "execute_result"
    }
   ],
   "source": [
    "%%sql\n",
    "SELECT id, account_id, total_amt_usd\n",
    "FROM orders\n",
    "ORDER BY total_amt_usd\n",
    "LIMIT 20;"
   ]
  },
  {
   "cell_type": "markdown",
   "metadata": {},
   "source": [
    "4. Write a query that displays the order ID, account ID, and total dollar amount for all the orders, sorted first by the account ID (in ascending order), and then by the total dollar amount (in descending order)."
   ]
  },
  {
   "cell_type": "code",
   "execution_count": 7,
   "metadata": {},
   "outputs": [
    {
     "name": "stdout",
     "output_type": "stream",
     "text": [
      " * sqlite:///parcy_and_posey.db\n",
      "Done.\n"
     ]
    },
    {
     "data": {
      "text/html": [
       "<table>\n",
       "    <tr>\n",
       "        <th>id</th>\n",
       "        <th>account_id</th>\n",
       "        <th>total_amt_usd</th>\n",
       "    </tr>\n",
       "    <tr>\n",
       "        <td>4308</td>\n",
       "        <td>1001</td>\n",
       "        <td>9426.71</td>\n",
       "    </tr>\n",
       "    <tr>\n",
       "        <td>4309</td>\n",
       "        <td>1001</td>\n",
       "        <td>9230.67</td>\n",
       "    </tr>\n",
       "    <tr>\n",
       "        <td>4316</td>\n",
       "        <td>1001</td>\n",
       "        <td>9134.31</td>\n",
       "    </tr>\n",
       "    <tr>\n",
       "        <td>4317</td>\n",
       "        <td>1001</td>\n",
       "        <td>8963.91</td>\n",
       "    </tr>\n",
       "    <tr>\n",
       "        <td>4314</td>\n",
       "        <td>1001</td>\n",
       "        <td>8863.24</td>\n",
       "    </tr>\n",
       "    <tr>\n",
       "        <td>4307</td>\n",
       "        <td>1001</td>\n",
       "        <td>8757.18</td>\n",
       "    </tr>\n",
       "    <tr>\n",
       "        <td>4311</td>\n",
       "        <td>1001</td>\n",
       "        <td>8672.95</td>\n",
       "    </tr>\n",
       "    <tr>\n",
       "        <td>4310</td>\n",
       "        <td>1001</td>\n",
       "        <td>8538.26</td>\n",
       "    </tr>\n",
       "    <tr>\n",
       "        <td>4312</td>\n",
       "        <td>1001</td>\n",
       "        <td>8343.09</td>\n",
       "    </tr>\n",
       "    <tr>\n",
       "        <td>4313</td>\n",
       "        <td>1001</td>\n",
       "        <td>8311.59</td>\n",
       "    </tr>\n",
       "</table>"
      ],
      "text/plain": [
       "[(4308, 1001, 9426.71),\n",
       " (4309, 1001, 9230.67),\n",
       " (4316, 1001, 9134.31),\n",
       " (4317, 1001, 8963.91),\n",
       " (4314, 1001, 8863.24),\n",
       " (4307, 1001, 8757.18),\n",
       " (4311, 1001, 8672.95),\n",
       " (4310, 1001, 8538.26),\n",
       " (4312, 1001, 8343.09),\n",
       " (4313, 1001, 8311.59)]"
      ]
     },
     "execution_count": 7,
     "metadata": {},
     "output_type": "execute_result"
    }
   ],
   "source": [
    "%%sql\n",
    "SELECT id, account_id, total_amt_usd\n",
    "FROM orders\n",
    "ORDER BY account_id, total_amt_usd DESC\n",
    "LIMIT 10;"
   ]
  },
  {
   "cell_type": "markdown",
   "metadata": {},
   "source": [
    "## WHERE clause"
   ]
  },
  {
   "cell_type": "markdown",
   "metadata": {},
   "source": [
    "1. Pulls the first 5 rows and all columns from the orders table that have a dollar amount of gloss_amt_usd greater than or equal to 1000."
   ]
  },
  {
   "cell_type": "code",
   "execution_count": 8,
   "metadata": {},
   "outputs": [
    {
     "name": "stdout",
     "output_type": "stream",
     "text": [
      " * sqlite:///parcy_and_posey.db\n",
      "Done.\n"
     ]
    },
    {
     "data": {
      "text/html": [
       "<table>\n",
       "    <tr>\n",
       "        <th>id</th>\n",
       "        <th>account_id</th>\n",
       "        <th>occurred_at</th>\n",
       "        <th>standard_qty</th>\n",
       "        <th>gloss_qty</th>\n",
       "        <th>poster_qty</th>\n",
       "        <th>total</th>\n",
       "        <th>standard_amt_usd</th>\n",
       "        <th>gloss_amt_usd</th>\n",
       "        <th>poster_amt_usd</th>\n",
       "        <th>total_amt_usd</th>\n",
       "    </tr>\n",
       "    <tr>\n",
       "        <td>14</td>\n",
       "        <td>1001</td>\n",
       "        <td>2016-10-26 20:31:30</td>\n",
       "        <td>97</td>\n",
       "        <td>143</td>\n",
       "        <td>54</td>\n",
       "        <td>294</td>\n",
       "        <td>484.03</td>\n",
       "        <td>1071.07</td>\n",
       "        <td>438.48</td>\n",
       "        <td>1993.58</td>\n",
       "    </tr>\n",
       "    <tr>\n",
       "        <td>62</td>\n",
       "        <td>1091</td>\n",
       "        <td>2014-10-13 12:12:55</td>\n",
       "        <td>146</td>\n",
       "        <td>196</td>\n",
       "        <td>3</td>\n",
       "        <td>345</td>\n",
       "        <td>728.54</td>\n",
       "        <td>1468.04</td>\n",
       "        <td>24.36</td>\n",
       "        <td>2220.94</td>\n",
       "    </tr>\n",
       "    <tr>\n",
       "        <td>88</td>\n",
       "        <td>1101</td>\n",
       "        <td>2015-06-24 13:08:15</td>\n",
       "        <td>182</td>\n",
       "        <td>339</td>\n",
       "        <td>17</td>\n",
       "        <td>538</td>\n",
       "        <td>908.18</td>\n",
       "        <td>2539.11</td>\n",
       "        <td>138.04</td>\n",
       "        <td>3585.33</td>\n",
       "    </tr>\n",
       "    <tr>\n",
       "        <td>121</td>\n",
       "        <td>1131</td>\n",
       "        <td>2016-08-10 23:47:41</td>\n",
       "        <td>273</td>\n",
       "        <td>134</td>\n",
       "        <td>0</td>\n",
       "        <td>407</td>\n",
       "        <td>1362.27</td>\n",
       "        <td>1003.66</td>\n",
       "        <td>0</td>\n",
       "        <td>2365.93</td>\n",
       "    </tr>\n",
       "    <tr>\n",
       "        <td>129</td>\n",
       "        <td>1141</td>\n",
       "        <td>2016-12-21 15:52:58</td>\n",
       "        <td>143</td>\n",
       "        <td>1045</td>\n",
       "        <td>2157</td>\n",
       "        <td>3345</td>\n",
       "        <td>713.57</td>\n",
       "        <td>7827.05</td>\n",
       "        <td>17514.84</td>\n",
       "        <td>26055.46</td>\n",
       "    </tr>\n",
       "</table>"
      ],
      "text/plain": [
       "[(14, 1001, '2016-10-26 20:31:30', 97, 143, 54, 294, 484.03, 1071.07, 438.48, 1993.58),\n",
       " (62, 1091, '2014-10-13 12:12:55', 146, 196, 3, 345, 728.54, 1468.04, 24.36, 2220.94),\n",
       " (88, 1101, '2015-06-24 13:08:15', 182, 339, 17, 538, 908.18, 2539.11, 138.04, 3585.33),\n",
       " (121, 1131, '2016-08-10 23:47:41', 273, 134, 0, 407, 1362.27, 1003.66, 0, 2365.93),\n",
       " (129, 1141, '2016-12-21 15:52:58', 143, 1045, 2157, 3345, 713.57, 7827.05, 17514.84, 26055.46)]"
      ]
     },
     "execution_count": 8,
     "metadata": {},
     "output_type": "execute_result"
    }
   ],
   "source": [
    "%%sql\n",
    "SELECT *\n",
    "FROM orders\n",
    "WHERE gloss_amt_usd >= 1000\n",
    "LIMIT 5;"
   ]
  },
  {
   "cell_type": "markdown",
   "metadata": {},
   "source": [
    "2. Pulls the first 10 rows and all columns from the orders table that have a total_amt_usd less than 500."
   ]
  },
  {
   "cell_type": "code",
   "execution_count": 9,
   "metadata": {},
   "outputs": [
    {
     "name": "stdout",
     "output_type": "stream",
     "text": [
      " * sqlite:///parcy_and_posey.db\n",
      "Done.\n"
     ]
    },
    {
     "data": {
      "text/html": [
       "<table>\n",
       "    <tr>\n",
       "        <th>id</th>\n",
       "        <th>account_id</th>\n",
       "        <th>occurred_at</th>\n",
       "        <th>standard_qty</th>\n",
       "        <th>gloss_qty</th>\n",
       "        <th>poster_qty</th>\n",
       "        <th>total</th>\n",
       "        <th>standard_amt_usd</th>\n",
       "        <th>gloss_amt_usd</th>\n",
       "        <th>poster_amt_usd</th>\n",
       "        <th>total_amt_usd</th>\n",
       "    </tr>\n",
       "    <tr>\n",
       "        <td>67</td>\n",
       "        <td>1091</td>\n",
       "        <td>2015-04-07 13:29:20</td>\n",
       "        <td>95</td>\n",
       "        <td>0</td>\n",
       "        <td>0</td>\n",
       "        <td>95</td>\n",
       "        <td>474.05</td>\n",
       "        <td>0</td>\n",
       "        <td>0</td>\n",
       "        <td>474.05</td>\n",
       "    </tr>\n",
       "    <tr>\n",
       "        <td>96</td>\n",
       "        <td>1101</td>\n",
       "        <td>2016-03-15 11:36:03</td>\n",
       "        <td>14</td>\n",
       "        <td>8</td>\n",
       "        <td>16</td>\n",
       "        <td>38</td>\n",
       "        <td>69.86</td>\n",
       "        <td>59.92</td>\n",
       "        <td>129.92</td>\n",
       "        <td>259.7</td>\n",
       "    </tr>\n",
       "    <tr>\n",
       "        <td>119</td>\n",
       "        <td>1131</td>\n",
       "        <td>2016-06-12 12:29:45</td>\n",
       "        <td>0</td>\n",
       "        <td>30</td>\n",
       "        <td>23</td>\n",
       "        <td>53</td>\n",
       "        <td>0</td>\n",
       "        <td>224.7</td>\n",
       "        <td>186.76</td>\n",
       "        <td>411.46</td>\n",
       "    </tr>\n",
       "    <tr>\n",
       "        <td>124</td>\n",
       "        <td>1131</td>\n",
       "        <td>2016-11-07 05:10:56</td>\n",
       "        <td>0</td>\n",
       "        <td>0</td>\n",
       "        <td>0</td>\n",
       "        <td>0</td>\n",
       "        <td>0</td>\n",
       "        <td>0</td>\n",
       "        <td>0</td>\n",
       "        <td>0</td>\n",
       "    </tr>\n",
       "    <tr>\n",
       "        <td>254</td>\n",
       "        <td>1251</td>\n",
       "        <td>2014-11-01 02:15:24</td>\n",
       "        <td>0</td>\n",
       "        <td>0</td>\n",
       "        <td>17</td>\n",
       "        <td>17</td>\n",
       "        <td>0</td>\n",
       "        <td>0</td>\n",
       "        <td>138.04</td>\n",
       "        <td>138.04</td>\n",
       "    </tr>\n",
       "    <tr>\n",
       "        <td>328</td>\n",
       "        <td>1291</td>\n",
       "        <td>2015-08-03 08:35:23</td>\n",
       "        <td>0</td>\n",
       "        <td>19</td>\n",
       "        <td>21</td>\n",
       "        <td>40</td>\n",
       "        <td>0</td>\n",
       "        <td>142.31</td>\n",
       "        <td>170.52</td>\n",
       "        <td>312.83</td>\n",
       "    </tr>\n",
       "    <tr>\n",
       "        <td>542</td>\n",
       "        <td>1421</td>\n",
       "        <td>2015-11-13 09:07:09</td>\n",
       "        <td>0</td>\n",
       "        <td>64</td>\n",
       "        <td>0</td>\n",
       "        <td>64</td>\n",
       "        <td>0</td>\n",
       "        <td>479.36</td>\n",
       "        <td>0</td>\n",
       "        <td>479.36</td>\n",
       "    </tr>\n",
       "    <tr>\n",
       "        <td>683</td>\n",
       "        <td>1501</td>\n",
       "        <td>2016-04-14 23:59:50</td>\n",
       "        <td>0</td>\n",
       "        <td>15</td>\n",
       "        <td>16</td>\n",
       "        <td>31</td>\n",
       "        <td>0</td>\n",
       "        <td>112.35</td>\n",
       "        <td>129.92</td>\n",
       "        <td>242.27</td>\n",
       "    </tr>\n",
       "    <tr>\n",
       "        <td>713</td>\n",
       "        <td>1521</td>\n",
       "        <td>2014-11-23 16:04:03</td>\n",
       "        <td>0</td>\n",
       "        <td>8</td>\n",
       "        <td>10</td>\n",
       "        <td>18</td>\n",
       "        <td>0</td>\n",
       "        <td>59.92</td>\n",
       "        <td>81.2</td>\n",
       "        <td>141.12</td>\n",
       "    </tr>\n",
       "    <tr>\n",
       "        <td>730</td>\n",
       "        <td>1521</td>\n",
       "        <td>2016-05-06 02:34:48</td>\n",
       "        <td>0</td>\n",
       "        <td>0</td>\n",
       "        <td>2</td>\n",
       "        <td>2</td>\n",
       "        <td>0</td>\n",
       "        <td>0</td>\n",
       "        <td>16.24</td>\n",
       "        <td>16.24</td>\n",
       "    </tr>\n",
       "</table>"
      ],
      "text/plain": [
       "[(67, 1091, '2015-04-07 13:29:20', 95, 0, 0, 95, 474.05, 0, 0, 474.05),\n",
       " (96, 1101, '2016-03-15 11:36:03', 14, 8, 16, 38, 69.86, 59.92, 129.92, 259.7),\n",
       " (119, 1131, '2016-06-12 12:29:45', 0, 30, 23, 53, 0, 224.7, 186.76, 411.46),\n",
       " (124, 1131, '2016-11-07 05:10:56', 0, 0, 0, 0, 0, 0, 0, 0),\n",
       " (254, 1251, '2014-11-01 02:15:24', 0, 0, 17, 17, 0, 0, 138.04, 138.04),\n",
       " (328, 1291, '2015-08-03 08:35:23', 0, 19, 21, 40, 0, 142.31, 170.52, 312.83),\n",
       " (542, 1421, '2015-11-13 09:07:09', 0, 64, 0, 64, 0, 479.36, 0, 479.36),\n",
       " (683, 1501, '2016-04-14 23:59:50', 0, 15, 16, 31, 0, 112.35, 129.92, 242.27),\n",
       " (713, 1521, '2014-11-23 16:04:03', 0, 8, 10, 18, 0, 59.92, 81.2, 141.12),\n",
       " (730, 1521, '2016-05-06 02:34:48', 0, 0, 2, 2, 0, 0, 16.24, 16.24)]"
      ]
     },
     "execution_count": 9,
     "metadata": {},
     "output_type": "execute_result"
    }
   ],
   "source": [
    "%%sql\n",
    "SELECT *\n",
    "FROM orders\n",
    "WHERE total_amt_usd < 500\n",
    "LIMIT 10;"
   ]
  },
  {
   "cell_type": "markdown",
   "metadata": {},
   "source": [
    "## Using WHERE with Non-Numeric Data"
   ]
  },
  {
   "cell_type": "code",
   "execution_count": 10,
   "metadata": {},
   "outputs": [
    {
     "name": "stdout",
     "output_type": "stream",
     "text": [
      " * sqlite:///parcy_and_posey.db\n",
      "Done.\n"
     ]
    },
    {
     "data": {
      "text/html": [
       "<table>\n",
       "    <tr>\n",
       "        <th>name</th>\n",
       "        <th>website</th>\n",
       "        <th>primary_poc</th>\n",
       "    </tr>\n",
       "    <tr>\n",
       "        <td>Exxon Mobil</td>\n",
       "        <td>www.exxonmobil.com</td>\n",
       "        <td>Sung Shields</td>\n",
       "    </tr>\n",
       "</table>"
      ],
      "text/plain": [
       "[('Exxon Mobil', 'www.exxonmobil.com', 'Sung Shields')]"
      ]
     },
     "execution_count": 10,
     "metadata": {},
     "output_type": "execute_result"
    }
   ],
   "source": [
    "%%sql\n",
    "SELECT name, website, primary_poc\n",
    "FROM accounts\n",
    "WHERE name = 'Exxon Mobil';"
   ]
  },
  {
   "cell_type": "markdown",
   "metadata": {},
   "source": [
    "## Arithmetic Operations"
   ]
  },
  {
   "cell_type": "markdown",
   "metadata": {},
   "source": [
    "1. Create a column that divides the standard_amt_usd by the standard_qty to find the unit price for standard paper for each order. Limit the results to the first 10 orders, and include the id and account_id fields."
   ]
  },
  {
   "cell_type": "code",
   "execution_count": 11,
   "metadata": {},
   "outputs": [
    {
     "name": "stdout",
     "output_type": "stream",
     "text": [
      " * sqlite:///parcy_and_posey.db\n",
      "Done.\n"
     ]
    },
    {
     "data": {
      "text/html": [
       "<table>\n",
       "    <tr>\n",
       "        <th>id</th>\n",
       "        <th>account_id</th>\n",
       "        <th>unit_price</th>\n",
       "    </tr>\n",
       "    <tr>\n",
       "        <td>1</td>\n",
       "        <td>1001</td>\n",
       "        <td>4.99</td>\n",
       "    </tr>\n",
       "    <tr>\n",
       "        <td>2</td>\n",
       "        <td>1001</td>\n",
       "        <td>4.99</td>\n",
       "    </tr>\n",
       "    <tr>\n",
       "        <td>3</td>\n",
       "        <td>1001</td>\n",
       "        <td>4.989999999999999</td>\n",
       "    </tr>\n",
       "    <tr>\n",
       "        <td>4</td>\n",
       "        <td>1001</td>\n",
       "        <td>4.989999999999999</td>\n",
       "    </tr>\n",
       "    <tr>\n",
       "        <td>5</td>\n",
       "        <td>1001</td>\n",
       "        <td>4.989999999999999</td>\n",
       "    </tr>\n",
       "    <tr>\n",
       "        <td>6</td>\n",
       "        <td>1001</td>\n",
       "        <td>4.99</td>\n",
       "    </tr>\n",
       "    <tr>\n",
       "        <td>7</td>\n",
       "        <td>1001</td>\n",
       "        <td>4.99</td>\n",
       "    </tr>\n",
       "    <tr>\n",
       "        <td>8</td>\n",
       "        <td>1001</td>\n",
       "        <td>4.99</td>\n",
       "    </tr>\n",
       "    <tr>\n",
       "        <td>9</td>\n",
       "        <td>1001</td>\n",
       "        <td>4.989999999999999</td>\n",
       "    </tr>\n",
       "    <tr>\n",
       "        <td>10</td>\n",
       "        <td>1001</td>\n",
       "        <td>4.99</td>\n",
       "    </tr>\n",
       "</table>"
      ],
      "text/plain": [
       "[(1, 1001, 4.99),\n",
       " (2, 1001, 4.99),\n",
       " (3, 1001, 4.989999999999999),\n",
       " (4, 1001, 4.989999999999999),\n",
       " (5, 1001, 4.989999999999999),\n",
       " (6, 1001, 4.99),\n",
       " (7, 1001, 4.99),\n",
       " (8, 1001, 4.99),\n",
       " (9, 1001, 4.989999999999999),\n",
       " (10, 1001, 4.99)]"
      ]
     },
     "execution_count": 11,
     "metadata": {},
     "output_type": "execute_result"
    }
   ],
   "source": [
    "%%sql\n",
    "SELECT id, account_id, standard_amt_usd/standard_qty AS unit_price\n",
    "FROM orders\n",
    "LIMIT 10;"
   ]
  },
  {
   "cell_type": "markdown",
   "metadata": {},
   "source": [
    "2. Write a query that finds the percentage of revenue that comes from poster paper for each order. You will need to use only the columns that end with _usd. (Try to do this without using the total column.) Display the id and account_id fields also."
   ]
  },
  {
   "cell_type": "code",
   "execution_count": 12,
   "metadata": {},
   "outputs": [
    {
     "name": "stdout",
     "output_type": "stream",
     "text": [
      " * sqlite:///parcy_and_posey.db\n",
      "Done.\n"
     ]
    },
    {
     "data": {
      "text/html": [
       "<table>\n",
       "    <tr>\n",
       "        <th>id</th>\n",
       "        <th>account_id</th>\n",
       "        <th>post_per</th>\n",
       "    </tr>\n",
       "    <tr>\n",
       "        <td>1</td>\n",
       "        <td>1001</td>\n",
       "        <td>0.20019929527546923</td>\n",
       "    </tr>\n",
       "    <tr>\n",
       "        <td>2</td>\n",
       "        <td>1001</td>\n",
       "        <td>0.269401582044551</td>\n",
       "    </tr>\n",
       "    <tr>\n",
       "        <td>3</td>\n",
       "        <td>1001</td>\n",
       "        <td>0.0</td>\n",
       "    </tr>\n",
       "    <tr>\n",
       "        <td>4</td>\n",
       "        <td>1001</td>\n",
       "        <td>0.0</td>\n",
       "    </tr>\n",
       "    <tr>\n",
       "        <td>5</td>\n",
       "        <td>1001</td>\n",
       "        <td>0.23117672777557474</td>\n",
       "    </tr>\n",
       "    <tr>\n",
       "        <td>6</td>\n",
       "        <td>1001</td>\n",
       "        <td>0.349983602717264</td>\n",
       "    </tr>\n",
       "    <tr>\n",
       "        <td>7</td>\n",
       "        <td>1001</td>\n",
       "        <td>0.49862501668669074</td>\n",
       "    </tr>\n",
       "    <tr>\n",
       "        <td>8</td>\n",
       "        <td>1001</td>\n",
       "        <td>0.5974661339050775</td>\n",
       "    </tr>\n",
       "    <tr>\n",
       "        <td>9</td>\n",
       "        <td>1001</td>\n",
       "        <td>0.23737326760301367</td>\n",
       "    </tr>\n",
       "    <tr>\n",
       "        <td>10</td>\n",
       "        <td>1001</td>\n",
       "        <td>0.07393917319249681</td>\n",
       "    </tr>\n",
       "</table>"
      ],
      "text/plain": [
       "[(1, 1001, 0.20019929527546923),\n",
       " (2, 1001, 0.269401582044551),\n",
       " (3, 1001, 0.0),\n",
       " (4, 1001, 0.0),\n",
       " (5, 1001, 0.23117672777557474),\n",
       " (6, 1001, 0.349983602717264),\n",
       " (7, 1001, 0.49862501668669074),\n",
       " (8, 1001, 0.5974661339050775),\n",
       " (9, 1001, 0.23737326760301367),\n",
       " (10, 1001, 0.07393917319249681)]"
      ]
     },
     "execution_count": 12,
     "metadata": {},
     "output_type": "execute_result"
    }
   ],
   "source": [
    "%%sql\n",
    "SELECT id, account_id, \n",
    "poster_amt_usd/(standard_amt_usd + gloss_amt_usd + poster_amt_usd) AS post_per\n",
    "FROM orders\n",
    "LIMIT 10;"
   ]
  },
  {
   "cell_type": "markdown",
   "metadata": {},
   "source": [
    "## Logical Operators"
   ]
  },
  {
   "cell_type": "markdown",
   "metadata": {},
   "source": [
    "### Like\n",
    "Use the accounts table to find\n",
    "1. All the companies whose names start with 'C'.\n",
    "2. All companies whose names contain the string 'one' somewhere in the name.\n",
    "3. All companies whose names end with 's'.\n"
   ]
  },
  {
   "cell_type": "code",
   "execution_count": 13,
   "metadata": {},
   "outputs": [
    {
     "name": "stdout",
     "output_type": "stream",
     "text": [
      " * sqlite:///parcy_and_posey.db\n",
      "Done.\n"
     ]
    },
    {
     "data": {
      "text/html": [
       "<table>\n",
       "    <tr>\n",
       "        <th>name</th>\n",
       "    </tr>\n",
       "    <tr>\n",
       "        <td>CVS Health</td>\n",
       "    </tr>\n",
       "    <tr>\n",
       "        <td>Chevron</td>\n",
       "    </tr>\n",
       "    <tr>\n",
       "        <td>Costco</td>\n",
       "    </tr>\n",
       "    <tr>\n",
       "        <td>Cardinal Health</td>\n",
       "    </tr>\n",
       "    <tr>\n",
       "        <td>Citigroup</td>\n",
       "    </tr>\n",
       "</table>"
      ],
      "text/plain": [
       "[('CVS Health',),\n",
       " ('Chevron',),\n",
       " ('Costco',),\n",
       " ('Cardinal Health',),\n",
       " ('Citigroup',)]"
      ]
     },
     "execution_count": 13,
     "metadata": {},
     "output_type": "execute_result"
    }
   ],
   "source": [
    "%%sql\n",
    "SELECT name\n",
    "FROM accounts\n",
    "WHERE name LIKE 'C%'\n",
    "LIMIT 5;"
   ]
  },
  {
   "cell_type": "code",
   "execution_count": 14,
   "metadata": {},
   "outputs": [
    {
     "name": "stdout",
     "output_type": "stream",
     "text": [
      " * sqlite:///parcy_and_posey.db\n",
      "Done.\n"
     ]
    },
    {
     "data": {
      "text/html": [
       "<table>\n",
       "    <tr>\n",
       "        <th>name</th>\n",
       "    </tr>\n",
       "    <tr>\n",
       "        <td>Honeywell International</td>\n",
       "    </tr>\n",
       "    <tr>\n",
       "        <td>INTL FCStone</td>\n",
       "    </tr>\n",
       "    <tr>\n",
       "        <td>Capital One Financial</td>\n",
       "    </tr>\n",
       "    <tr>\n",
       "        <td>AutoZone</td>\n",
       "    </tr>\n",
       "    <tr>\n",
       "        <td>Oneok</td>\n",
       "    </tr>\n",
       "</table>"
      ],
      "text/plain": [
       "[('Honeywell International',),\n",
       " ('INTL FCStone',),\n",
       " ('Capital One Financial',),\n",
       " ('AutoZone',),\n",
       " ('Oneok',)]"
      ]
     },
     "execution_count": 14,
     "metadata": {},
     "output_type": "execute_result"
    }
   ],
   "source": [
    "%%sql\n",
    "SELECT name\n",
    "FROM accounts\n",
    "WHERE name LIKE '%one%';"
   ]
  },
  {
   "cell_type": "code",
   "execution_count": 15,
   "metadata": {},
   "outputs": [
    {
     "name": "stdout",
     "output_type": "stream",
     "text": [
      " * sqlite:///parcy_and_posey.db\n",
      "Done.\n"
     ]
    },
    {
     "data": {
      "text/html": [
       "<table>\n",
       "    <tr>\n",
       "        <th>name</th>\n",
       "    </tr>\n",
       "    <tr>\n",
       "        <td>General Motors</td>\n",
       "    </tr>\n",
       "    <tr>\n",
       "        <td>United Technologies</td>\n",
       "    </tr>\n",
       "    <tr>\n",
       "        <td>Lowe&#x27;s</td>\n",
       "    </tr>\n",
       "    <tr>\n",
       "        <td>UPS</td>\n",
       "    </tr>\n",
       "    <tr>\n",
       "        <td>Cisco Systems</td>\n",
       "    </tr>\n",
       "</table>"
      ],
      "text/plain": [
       "[('General Motors',),\n",
       " ('United Technologies',),\n",
       " (\"Lowe's\",),\n",
       " ('UPS',),\n",
       " ('Cisco Systems',)]"
      ]
     },
     "execution_count": 15,
     "metadata": {},
     "output_type": "execute_result"
    }
   ],
   "source": [
    "%%sql\n",
    "SELECT name\n",
    "FROM accounts\n",
    "WHERE name LIKE '%s'\n",
    "LIMIT 5;"
   ]
  },
  {
   "cell_type": "markdown",
   "metadata": {},
   "source": [
    "### IN\n",
    "1. Use the accounts table to find the account name, primary_poc, and sales_rep_id for Walmart, Target, and Nordstrom."
   ]
  },
  {
   "cell_type": "code",
   "execution_count": 16,
   "metadata": {},
   "outputs": [
    {
     "name": "stdout",
     "output_type": "stream",
     "text": [
      " * sqlite:///parcy_and_posey.db\n",
      "Done.\n"
     ]
    },
    {
     "data": {
      "text/html": [
       "<table>\n",
       "    <tr>\n",
       "        <th>name</th>\n",
       "        <th>primary_poc</th>\n",
       "        <th>sales_rep_id</th>\n",
       "    </tr>\n",
       "    <tr>\n",
       "        <td>Walmart</td>\n",
       "        <td>Tamara Tuma</td>\n",
       "        <td>321500</td>\n",
       "    </tr>\n",
       "    <tr>\n",
       "        <td>Target</td>\n",
       "        <td>Luba Streett</td>\n",
       "        <td>321660</td>\n",
       "    </tr>\n",
       "    <tr>\n",
       "        <td>Nordstrom</td>\n",
       "        <td>Yan Crater</td>\n",
       "        <td>321820</td>\n",
       "    </tr>\n",
       "</table>"
      ],
      "text/plain": [
       "[('Walmart', 'Tamara Tuma', 321500),\n",
       " ('Target', 'Luba Streett', 321660),\n",
       " ('Nordstrom', 'Yan Crater', 321820)]"
      ]
     },
     "execution_count": 16,
     "metadata": {},
     "output_type": "execute_result"
    }
   ],
   "source": [
    "%%sql\n",
    "SELECT name, primary_poc, sales_rep_id\n",
    "FROM accounts\n",
    "WHERE name IN ('Walmart', 'Target', 'Nordstrom');"
   ]
  },
  {
   "cell_type": "markdown",
   "metadata": {},
   "source": [
    "2. Use the web_events table to find all information regarding individuals who were contacted via the channel of organic or adwords."
   ]
  },
  {
   "cell_type": "code",
   "execution_count": 17,
   "metadata": {},
   "outputs": [
    {
     "name": "stdout",
     "output_type": "stream",
     "text": [
      " * sqlite:///parcy_and_posey.db\n",
      "Done.\n"
     ]
    },
    {
     "data": {
      "text/html": [
       "<table>\n",
       "    <tr>\n",
       "        <th>id</th>\n",
       "        <th>account_id</th>\n",
       "        <th>occurred_at</th>\n",
       "        <th>channel</th>\n",
       "    </tr>\n",
       "    <tr>\n",
       "        <td>4395</td>\n",
       "        <td>1001</td>\n",
       "        <td>2015-10-22 05:02:47</td>\n",
       "        <td>organic</td>\n",
       "    </tr>\n",
       "    <tr>\n",
       "        <td>4396</td>\n",
       "        <td>1001</td>\n",
       "        <td>2015-10-22 14:04:20</td>\n",
       "        <td>adwords</td>\n",
       "    </tr>\n",
       "    <tr>\n",
       "        <td>4399</td>\n",
       "        <td>1001</td>\n",
       "        <td>2016-01-01 15:45:54</td>\n",
       "        <td>adwords</td>\n",
       "    </tr>\n",
       "    <tr>\n",
       "        <td>4401</td>\n",
       "        <td>1001</td>\n",
       "        <td>2016-02-07 17:44:10</td>\n",
       "        <td>adwords</td>\n",
       "    </tr>\n",
       "    <tr>\n",
       "        <td>4402</td>\n",
       "        <td>1001</td>\n",
       "        <td>2016-02-27 15:27:22</td>\n",
       "        <td>organic</td>\n",
       "    </tr>\n",
       "</table>"
      ],
      "text/plain": [
       "[(4395, 1001, '2015-10-22 05:02:47', 'organic'),\n",
       " (4396, 1001, '2015-10-22 14:04:20', 'adwords'),\n",
       " (4399, 1001, '2016-01-01 15:45:54', 'adwords'),\n",
       " (4401, 1001, '2016-02-07 17:44:10', 'adwords'),\n",
       " (4402, 1001, '2016-02-27 15:27:22', 'organic')]"
      ]
     },
     "execution_count": 17,
     "metadata": {},
     "output_type": "execute_result"
    }
   ],
   "source": [
    "%%sql\n",
    "SELECT *\n",
    "FROM web_events\n",
    "WHERE channel IN ('organic', 'adwords')\n",
    "LIMIT 5;"
   ]
  },
  {
   "cell_type": "markdown",
   "metadata": {},
   "source": [
    "### Not\n",
    "Use the accounts table to find:\n",
    "1. Use the accounts table to find the account name, primary poc, and sales rep id for all stores except Walmart, Target, and Nordstrom."
   ]
  },
  {
   "cell_type": "code",
   "execution_count": 19,
   "metadata": {},
   "outputs": [
    {
     "name": "stdout",
     "output_type": "stream",
     "text": [
      " * sqlite:///parcy_and_posey.db\n",
      "Done.\n"
     ]
    },
    {
     "data": {
      "text/html": [
       "<table>\n",
       "    <tr>\n",
       "        <th>name</th>\n",
       "        <th>primary_poc</th>\n",
       "        <th>sales_rep_id</th>\n",
       "    </tr>\n",
       "    <tr>\n",
       "        <td>Exxon Mobil</td>\n",
       "        <td>Sung Shields</td>\n",
       "        <td>321510</td>\n",
       "    </tr>\n",
       "    <tr>\n",
       "        <td>Apple</td>\n",
       "        <td>Jodee Lupo</td>\n",
       "        <td>321520</td>\n",
       "    </tr>\n",
       "    <tr>\n",
       "        <td>Berkshire Hathaway</td>\n",
       "        <td>Serafina Banda</td>\n",
       "        <td>321530</td>\n",
       "    </tr>\n",
       "    <tr>\n",
       "        <td>McKesson</td>\n",
       "        <td>Angeles Crusoe</td>\n",
       "        <td>321540</td>\n",
       "    </tr>\n",
       "    <tr>\n",
       "        <td>UnitedHealth Group</td>\n",
       "        <td>Savanna Gayman</td>\n",
       "        <td>321550</td>\n",
       "    </tr>\n",
       "</table>"
      ],
      "text/plain": [
       "[('Exxon Mobil', 'Sung Shields', 321510),\n",
       " ('Apple', 'Jodee Lupo', 321520),\n",
       " ('Berkshire Hathaway', 'Serafina Banda', 321530),\n",
       " ('McKesson', 'Angeles Crusoe', 321540),\n",
       " ('UnitedHealth Group', 'Savanna Gayman', 321550)]"
      ]
     },
     "execution_count": 19,
     "metadata": {},
     "output_type": "execute_result"
    }
   ],
   "source": [
    "%%sql\n",
    "SELECT name, primary_poc, sales_rep_id\n",
    "FROM accounts\n",
    "WHERE name NOT IN ('Walmart', 'Target', 'Nordstrom')\n",
    "LIMIT 5;"
   ]
  },
  {
   "cell_type": "markdown",
   "metadata": {},
   "source": [
    "2. All the companies whose names do not start with 'C'."
   ]
  },
  {
   "cell_type": "code",
   "execution_count": 20,
   "metadata": {},
   "outputs": [
    {
     "name": "stdout",
     "output_type": "stream",
     "text": [
      " * sqlite:///parcy_and_posey.db\n",
      "Done.\n"
     ]
    },
    {
     "data": {
      "text/html": [
       "<table>\n",
       "    <tr>\n",
       "        <th>name</th>\n",
       "    </tr>\n",
       "    <tr>\n",
       "        <td>Walmart</td>\n",
       "    </tr>\n",
       "    <tr>\n",
       "        <td>Exxon Mobil</td>\n",
       "    </tr>\n",
       "    <tr>\n",
       "        <td>Apple</td>\n",
       "    </tr>\n",
       "    <tr>\n",
       "        <td>Berkshire Hathaway</td>\n",
       "    </tr>\n",
       "    <tr>\n",
       "        <td>McKesson</td>\n",
       "    </tr>\n",
       "</table>"
      ],
      "text/plain": [
       "[('Walmart',),\n",
       " ('Exxon Mobil',),\n",
       " ('Apple',),\n",
       " ('Berkshire Hathaway',),\n",
       " ('McKesson',)]"
      ]
     },
     "execution_count": 20,
     "metadata": {},
     "output_type": "execute_result"
    }
   ],
   "source": [
    "%%sql\n",
    "SELECT name\n",
    "FROM accounts\n",
    "WHERE name NOT LIKE 'C%'\n",
    "LIMIT 5;"
   ]
  },
  {
   "cell_type": "markdown",
   "metadata": {},
   "source": [
    "3. All companies whose names do not contain the string 'one' somewhere in the name."
   ]
  },
  {
   "cell_type": "code",
   "execution_count": 22,
   "metadata": {},
   "outputs": [
    {
     "name": "stdout",
     "output_type": "stream",
     "text": [
      " * sqlite:///parcy_and_posey.db\n",
      "Done.\n"
     ]
    },
    {
     "data": {
      "text/html": [
       "<table>\n",
       "    <tr>\n",
       "        <th>name</th>\n",
       "    </tr>\n",
       "    <tr>\n",
       "        <td>Walmart</td>\n",
       "    </tr>\n",
       "    <tr>\n",
       "        <td>Exxon Mobil</td>\n",
       "    </tr>\n",
       "    <tr>\n",
       "        <td>Apple</td>\n",
       "    </tr>\n",
       "    <tr>\n",
       "        <td>Berkshire Hathaway</td>\n",
       "    </tr>\n",
       "    <tr>\n",
       "        <td>McKesson</td>\n",
       "    </tr>\n",
       "</table>"
      ],
      "text/plain": [
       "[('Walmart',),\n",
       " ('Exxon Mobil',),\n",
       " ('Apple',),\n",
       " ('Berkshire Hathaway',),\n",
       " ('McKesson',)]"
      ]
     },
     "execution_count": 22,
     "metadata": {},
     "output_type": "execute_result"
    }
   ],
   "source": [
    "%%sql\n",
    "SELECT name\n",
    "FROM accounts\n",
    "WHERE name NOT LIKE '%one%'\n",
    "LIMIT 5;"
   ]
  },
  {
   "cell_type": "markdown",
   "metadata": {},
   "source": [
    "4. All companies whose names do not end with 's'"
   ]
  },
  {
   "cell_type": "code",
   "execution_count": 23,
   "metadata": {},
   "outputs": [
    {
     "name": "stdout",
     "output_type": "stream",
     "text": [
      " * sqlite:///parcy_and_posey.db\n",
      "Done.\n"
     ]
    },
    {
     "data": {
      "text/html": [
       "<table>\n",
       "    <tr>\n",
       "        <th>name</th>\n",
       "    </tr>\n",
       "    <tr>\n",
       "        <td>Walmart</td>\n",
       "    </tr>\n",
       "    <tr>\n",
       "        <td>Exxon Mobil</td>\n",
       "    </tr>\n",
       "    <tr>\n",
       "        <td>Apple</td>\n",
       "    </tr>\n",
       "    <tr>\n",
       "        <td>Berkshire Hathaway</td>\n",
       "    </tr>\n",
       "    <tr>\n",
       "        <td>McKesson</td>\n",
       "    </tr>\n",
       "</table>"
      ],
      "text/plain": [
       "[('Walmart',),\n",
       " ('Exxon Mobil',),\n",
       " ('Apple',),\n",
       " ('Berkshire Hathaway',),\n",
       " ('McKesson',)]"
      ]
     },
     "execution_count": 23,
     "metadata": {},
     "output_type": "execute_result"
    }
   ],
   "source": [
    "%%sql\n",
    "SELECT name\n",
    "FROM accounts\n",
    "WHERE name NOT LIKE '%s'\n",
    "LIMIT 5;"
   ]
  },
  {
   "cell_type": "markdown",
   "metadata": {},
   "source": [
    "### And and Between\n",
    "\n",
    "1. Write a query that returns all the orders where the standard_qty is over 1000, the poster_qty is 0, and the gloss_qty is 0."
   ]
  },
  {
   "cell_type": "code",
   "execution_count": 24,
   "metadata": {},
   "outputs": [
    {
     "name": "stdout",
     "output_type": "stream",
     "text": [
      " * sqlite:///parcy_and_posey.db\n",
      "Done.\n"
     ]
    },
    {
     "data": {
      "text/html": [
       "<table>\n",
       "    <tr>\n",
       "        <th>id</th>\n",
       "        <th>account_id</th>\n",
       "        <th>occurred_at</th>\n",
       "        <th>standard_qty</th>\n",
       "        <th>gloss_qty</th>\n",
       "        <th>poster_qty</th>\n",
       "        <th>total</th>\n",
       "        <th>standard_amt_usd</th>\n",
       "        <th>gloss_amt_usd</th>\n",
       "        <th>poster_amt_usd</th>\n",
       "        <th>total_amt_usd</th>\n",
       "    </tr>\n",
       "    <tr>\n",
       "        <td>2613</td>\n",
       "        <td>2951</td>\n",
       "        <td>2016-08-15 00:06:12</td>\n",
       "        <td>1171</td>\n",
       "        <td>0</td>\n",
       "        <td>0</td>\n",
       "        <td>1171</td>\n",
       "        <td>5843.29</td>\n",
       "        <td>0</td>\n",
       "        <td>0</td>\n",
       "        <td>5843.29</td>\n",
       "    </tr>\n",
       "    <tr>\n",
       "        <td>3260</td>\n",
       "        <td>3491</td>\n",
       "        <td>2014-08-29 22:43:00</td>\n",
       "        <td>1552</td>\n",
       "        <td>0</td>\n",
       "        <td>0</td>\n",
       "        <td>1552</td>\n",
       "        <td>7744.48</td>\n",
       "        <td>0</td>\n",
       "        <td>0</td>\n",
       "        <td>7744.48</td>\n",
       "    </tr>\n",
       "</table>"
      ],
      "text/plain": [
       "[(2613, 2951, '2016-08-15 00:06:12', 1171, 0, 0, 1171, 5843.29, 0, 0, 5843.29),\n",
       " (3260, 3491, '2014-08-29 22:43:00', 1552, 0, 0, 1552, 7744.48, 0, 0, 7744.48)]"
      ]
     },
     "execution_count": 24,
     "metadata": {},
     "output_type": "execute_result"
    }
   ],
   "source": [
    "%%sql\n",
    "SELECT *\n",
    "FROM orders\n",
    "WHERE standard_qty > 1000 AND poster_qty = 0 AND gloss_qty = 0;"
   ]
  },
  {
   "cell_type": "markdown",
   "metadata": {},
   "source": [
    "2. Using the accounts table, find all the companies whose names do not start with 'C' and end with 's'."
   ]
  },
  {
   "cell_type": "code",
   "execution_count": 26,
   "metadata": {},
   "outputs": [
    {
     "name": "stdout",
     "output_type": "stream",
     "text": [
      " * sqlite:///parcy_and_posey.db\n",
      "Done.\n"
     ]
    },
    {
     "data": {
      "text/html": [
       "<table>\n",
       "    <tr>\n",
       "        <th>name</th>\n",
       "    </tr>\n",
       "    <tr>\n",
       "        <td>General Motors</td>\n",
       "    </tr>\n",
       "    <tr>\n",
       "        <td>United Technologies</td>\n",
       "    </tr>\n",
       "    <tr>\n",
       "        <td>Lowe&#x27;s</td>\n",
       "    </tr>\n",
       "    <tr>\n",
       "        <td>UPS</td>\n",
       "    </tr>\n",
       "    <tr>\n",
       "        <td>HCA Holdings</td>\n",
       "    </tr>\n",
       "</table>"
      ],
      "text/plain": [
       "[('General Motors',),\n",
       " ('United Technologies',),\n",
       " (\"Lowe's\",),\n",
       " ('UPS',),\n",
       " ('HCA Holdings',)]"
      ]
     },
     "execution_count": 26,
     "metadata": {},
     "output_type": "execute_result"
    }
   ],
   "source": [
    "%%sql\n",
    "SELECT name\n",
    "FROM accounts\n",
    "WHERE name NOT LIKE 'C%' AND name LIKE '%s'\n",
    "LIMIT 5;"
   ]
  },
  {
   "cell_type": "markdown",
   "metadata": {},
   "source": [
    "3. Use the web_events table to find all information regarding individuals who were contacted via the organic or adwords channels, and started their account at any point in 2016, sorted from newest to oldest."
   ]
  },
  {
   "cell_type": "code",
   "execution_count": 28,
   "metadata": {},
   "outputs": [
    {
     "name": "stdout",
     "output_type": "stream",
     "text": [
      " * sqlite:///parcy_and_posey.db\n",
      "Done.\n"
     ]
    },
    {
     "data": {
      "text/html": [
       "<table>\n",
       "    <tr>\n",
       "        <th>id</th>\n",
       "        <th>account_id</th>\n",
       "        <th>occurred_at</th>\n",
       "        <th>channel</th>\n",
       "    </tr>\n",
       "    <tr>\n",
       "        <td>8493</td>\n",
       "        <td>4141</td>\n",
       "        <td>2016-12-31 16:31:23</td>\n",
       "        <td>organic</td>\n",
       "    </tr>\n",
       "    <tr>\n",
       "        <td>5661</td>\n",
       "        <td>1851</td>\n",
       "        <td>2016-12-31 06:55:38</td>\n",
       "        <td>organic</td>\n",
       "    </tr>\n",
       "    <tr>\n",
       "        <td>5562</td>\n",
       "        <td>1791</td>\n",
       "        <td>2016-12-31 02:08:50</td>\n",
       "        <td>adwords</td>\n",
       "    </tr>\n",
       "    <tr>\n",
       "        <td>7703</td>\n",
       "        <td>3351</td>\n",
       "        <td>2016-12-30 21:06:53</td>\n",
       "        <td>adwords</td>\n",
       "    </tr>\n",
       "    <tr>\n",
       "        <td>7921</td>\n",
       "        <td>3521</td>\n",
       "        <td>2016-12-30 20:15:48</td>\n",
       "        <td>organic</td>\n",
       "    </tr>\n",
       "</table>"
      ],
      "text/plain": [
       "[(8493, 4141, '2016-12-31 16:31:23', 'organic'),\n",
       " (5661, 1851, '2016-12-31 06:55:38', 'organic'),\n",
       " (5562, 1791, '2016-12-31 02:08:50', 'adwords'),\n",
       " (7703, 3351, '2016-12-30 21:06:53', 'adwords'),\n",
       " (7921, 3521, '2016-12-30 20:15:48', 'organic')]"
      ]
     },
     "execution_count": 28,
     "metadata": {},
     "output_type": "execute_result"
    }
   ],
   "source": [
    "%%sql\n",
    "SELECT *\n",
    "FROM web_events\n",
    "WHERE channel IN ('organic', 'adwords') AND occurred_at BETWEEN '2016-01-01' AND '2017-01-01'\n",
    "ORDER BY occurred_at DESC\n",
    "LIMIT 5;"
   ]
  },
  {
   "cell_type": "markdown",
   "metadata": {},
   "source": []
  }
 ],
 "metadata": {
  "kernelspec": {
   "display_name": "Python 3.9.12 ('base')",
   "language": "python",
   "name": "python3"
  },
  "language_info": {
   "codemirror_mode": {
    "name": "ipython",
    "version": 3
   },
   "file_extension": ".py",
   "mimetype": "text/x-python",
   "name": "python",
   "nbconvert_exporter": "python",
   "pygments_lexer": "ipython3",
   "version": "3.9.12"
  },
  "orig_nbformat": 4,
  "vscode": {
   "interpreter": {
    "hash": "ad2bdc8ecc057115af97d19610ffacc2b4e99fae6737bb82f5d7fb13d2f2c186"
   }
  }
 },
 "nbformat": 4,
 "nbformat_minor": 2
}
